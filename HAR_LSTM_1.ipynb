{
 "cells": [
  {
   "cell_type": "code",
   "execution_count": 0,
   "metadata": {
    "colab": {},
    "colab_type": "code",
    "id": "uclkism015wr"
   },
   "outputs": [],
   "source": [
    "# Importing Libraries"
   ]
  },
  {
   "cell_type": "code",
   "execution_count": 0,
   "metadata": {
    "colab": {
     "base_uri": "https://localhost:8080/",
     "height": 34
    },
    "colab_type": "code",
    "id": "giik95fp3N9I",
    "outputId": "4b05a9a3-e9ae-4a05-c4a9-98d949315b9f"
   },
   "outputs": [
    {
     "name": "stdout",
     "output_type": "stream",
     "text": [
      "Drive already mounted at /content/drive; to attempt to forcibly remount, call drive.mount(\"/content/drive\", force_remount=True).\n"
     ]
    }
   ],
   "source": [
    "from google.colab import drive\n",
    "\n",
    "# This will prompt for authorization.\n",
    "drive.mount('/content/drive')"
   ]
  },
  {
   "cell_type": "code",
   "execution_count": 0,
   "metadata": {
    "colab": {
     "base_uri": "https://localhost:8080/",
     "height": 34
    },
    "colab_type": "code",
    "id": "7zjvT3EN3fP4",
    "outputId": "f17bdb9e-f95a-495d-a821-5b2f6ef9f758"
   },
   "outputs": [
    {
     "name": "stdout",
     "output_type": "stream",
     "text": [
      "HAR_EDA.ipynb  HAR_LSTM.ipynb  HAR_PREDICTION_MODELS.ipynb  UCI_HAR_Dataset\n"
     ]
    }
   ],
   "source": [
    "!ls \"/content/drive/My Drive/Colab Notebooks/HumanActivityRecognition/HAR\""
   ]
  },
  {
   "cell_type": "code",
   "execution_count": 0,
   "metadata": {
    "colab": {},
    "colab_type": "code",
    "id": "cXKwAYpJ15xe"
   },
   "outputs": [],
   "source": [
    "import pandas as pd\n",
    "import numpy as np\n"
   ]
  },
  {
   "cell_type": "code",
   "execution_count": 0,
   "metadata": {
    "colab": {},
    "colab_type": "code",
    "id": "oIQaIl5f15x8"
   },
   "outputs": [],
   "source": [
    "# Activities are the class labels\n",
    "# It is a 6 class classification\n",
    "ACTIVITIES = {\n",
    "    0: 'WALKING',\n",
    "    1: 'WALKING_UPSTAIRS',\n",
    "    2: 'WALKING_DOWNSTAIRS',\n",
    "    3: 'SITTING',\n",
    "    4: 'STANDING',\n",
    "    5: 'LAYING',\n",
    "}\n",
    "\n",
    "# Utility function to print the confusion matrix\n",
    "def confusion_matrix(Y_true, Y_pred):\n",
    "    Y_true = pd.Series([ACTIVITIES[y] for y in np.argmax(Y_true, axis=1)])\n",
    "    Y_pred = pd.Series([ACTIVITIES[y] for y in np.argmax(Y_pred, axis=1)])\n",
    "\n",
    "    return pd.crosstab(Y_true, Y_pred, rownames=['True'], colnames=['Pred'])"
   ]
  },
  {
   "cell_type": "markdown",
   "metadata": {
    "colab_type": "text",
    "id": "isgtjz0115ye"
   },
   "source": [
    "### Data"
   ]
  },
  {
   "cell_type": "code",
   "execution_count": 0,
   "metadata": {
    "colab": {},
    "colab_type": "code",
    "id": "2rS6EBKf15yi"
   },
   "outputs": [],
   "source": [
    "# Data directory\n",
    "DATADIR = '/content/drive/My Drive/Colab Notebooks/HumanActivityRecognition/HAR/UCI_HAR_Dataset'"
   ]
  },
  {
   "cell_type": "code",
   "execution_count": 0,
   "metadata": {
    "colab": {},
    "colab_type": "code",
    "id": "Ahh5-UWO15zN"
   },
   "outputs": [],
   "source": [
    "# Raw data signals\n",
    "# Signals are from Accelerometer and Gyroscope\n",
    "# The signals are in x,y,z directions\n",
    "# Sensor signals are filtered to have only body acceleration\n",
    "# excluding the acceleration due to gravity\n",
    "# Triaxial acceleration from the accelerometer is total acceleration\n",
    "SIGNALS = [\n",
    "    \"body_acc_x\",\n",
    "    \"body_acc_y\",\n",
    "    \"body_acc_z\",\n",
    "    \"body_gyro_x\",\n",
    "    \"body_gyro_y\",\n",
    "    \"body_gyro_z\",\n",
    "    \"total_acc_x\",\n",
    "    \"total_acc_y\",\n",
    "    \"total_acc_z\"\n",
    "]"
   ]
  },
  {
   "cell_type": "code",
   "execution_count": 0,
   "metadata": {
    "colab": {},
    "colab_type": "code",
    "id": "ao_ym2YF15zk"
   },
   "outputs": [],
   "source": [
    "# Utility function to read the data from csv file\n",
    "def _read_csv(filename):\n",
    "    return pd.read_csv(filename, delim_whitespace=True, header=None)\n",
    "\n",
    "# Utility function to load the load\n",
    "def load_signals(subset):\n",
    "    signals_data = []\n",
    "\n",
    "    for signal in SIGNALS:\n",
    "        filename = f'/content/drive/My Drive/Colab Notebooks/HumanActivityRecognition/HAR/UCI_HAR_Dataset/{subset}/Inertial Signals/{signal}_{subset}.txt'\n",
    "        signals_data.append(\n",
    "            _read_csv(filename).to_numpy()\n",
    "        ) \n",
    "\n",
    "    # Transpose is used to change the dimensionality of the output,\n",
    "    # aggregating the signals by combination of sample/timestep.\n",
    "    # Resultant shape is (7352 train/2947 test samples, 128 timesteps, 9 signals)\n",
    "    return np.transpose(signals_data, (1, 2, 0))"
   ]
  },
  {
   "cell_type": "code",
   "execution_count": 0,
   "metadata": {
    "colab": {},
    "colab_type": "code",
    "id": "s4mINjp015z9"
   },
   "outputs": [],
   "source": [
    "\n",
    "def load_y(subset):\n",
    "    \"\"\"\n",
    "    The objective that we are trying to predict is a integer, from 1 to 6,\n",
    "    that represents a human activity. We return a binary representation of \n",
    "    every sample objective as a 6 bits vector using One Hot Encoding\n",
    "    (https://pandas.pydata.org/pandas-docs/stable/generated/pandas.get_dummies.html)\n",
    "    \"\"\"\n",
    "    filename = f'/content/drive/My Drive/Colab Notebooks/HumanActivityRecognition/HAR/UCI_HAR_Dataset/{subset}/y_{subset}.txt'\n",
    "    y = _read_csv(filename)[0]\n",
    "\n",
    "    #return pd.get_dummies(y)\n",
    "    return y"
   ]
  },
  {
   "cell_type": "code",
   "execution_count": 0,
   "metadata": {
    "colab": {},
    "colab_type": "code",
    "id": "UO29ioMH150Q"
   },
   "outputs": [],
   "source": [
    "def load_data():\n",
    "    \"\"\"\n",
    "    Obtain the dataset from multiple files.\n",
    "    Returns: X_train, X_test, y_train, y_test\n",
    "    \"\"\"\n",
    "    X_train, X_test = load_signals('train'), load_signals('test')\n",
    "    y_train, y_test = load_y('train'), load_y('test')\n",
    "\n",
    "    return X_train, X_test, y_train, y_test"
   ]
  },
  {
   "cell_type": "code",
   "execution_count": 0,
   "metadata": {
    "colab": {},
    "colab_type": "code",
    "id": "ssEU5N2o150e"
   },
   "outputs": [],
   "source": [
    "# Importing tensorflow\n",
    "np.random.seed(42)\n",
    "import tensorflow.compat.v1 as tf\n",
    "#tf.disable_v2_behavior()\n",
    "tf.set_random_seed(42)"
   ]
  },
  {
   "cell_type": "code",
   "execution_count": 0,
   "metadata": {
    "colab": {},
    "colab_type": "code",
    "id": "Jj1QB1Qr150v"
   },
   "outputs": [],
   "source": [
    "# Configuring a session\n",
    "session_conf = tf.ConfigProto(\n",
    "    intra_op_parallelism_threads=1,\n",
    "    inter_op_parallelism_threads=1\n",
    ")"
   ]
  },
  {
   "cell_type": "code",
   "execution_count": 0,
   "metadata": {
    "colab": {},
    "colab_type": "code",
    "id": "ef0zsPFN151F"
   },
   "outputs": [],
   "source": [
    "# Import Keras\n",
    "from keras import backend as K\n",
    "sess = tf.Session(graph=tf.get_default_graph(), config=session_conf)\n",
    "tf.compat.v1.keras.backend.set_session(sess)"
   ]
  },
  {
   "cell_type": "code",
   "execution_count": 0,
   "metadata": {
    "colab": {},
    "colab_type": "code",
    "id": "YuyDNG4p151V"
   },
   "outputs": [],
   "source": [
    "# Importing libraries\n",
    "from keras.models import Sequential\n",
    "from keras.layers import LSTM\n",
    "from keras.layers.core import Dense, Dropout\n",
    "tf.compat.v1.enable_eager_execution()"
   ]
  },
  {
   "cell_type": "code",
   "execution_count": 0,
   "metadata": {
    "colab": {},
    "colab_type": "code",
    "id": "NFuIfUUt151j"
   },
   "outputs": [],
   "source": [
    "# Initializing parameters\n",
    "epochs = 30\n",
    "batch_size = 16\n",
    "n_hidden = 32"
   ]
  },
  {
   "cell_type": "code",
   "execution_count": 0,
   "metadata": {
    "colab": {},
    "colab_type": "code",
    "id": "99Vqhusk151y"
   },
   "outputs": [],
   "source": [
    "# Utility function to count the number of classes\n",
    "def _count_classes(y):\n",
    "    return len(set([tuple(category) for category in y]))"
   ]
  },
  {
   "cell_type": "code",
   "execution_count": 0,
   "metadata": {
    "colab": {},
    "colab_type": "code",
    "id": "gNWtO1ul152B"
   },
   "outputs": [],
   "source": [
    "# Loading the train and test data\n",
    "X_train, X_test, Y_train, Y_test = load_data()"
   ]
  },
  {
   "cell_type": "code",
   "execution_count": 0,
   "metadata": {
    "colab": {
     "base_uri": "https://localhost:8080/",
     "height": 85
    },
    "colab_type": "code",
    "id": "N1Q98CVZ152R",
    "outputId": "c9088f4d-203b-42ed-d36a-e65ea7a0ca40"
   },
   "outputs": [
    {
     "name": "stdout",
     "output_type": "stream",
     "text": [
      "128\n",
      "9\n",
      "7352\n",
      "(7352, 128, 9)\n"
     ]
    }
   ],
   "source": [
    "timesteps = len(X_train[0])\n",
    "input_dim = len(X_train[0][0])\n",
    "#n_classes = _count_classes(Y_train)\n",
    "\n",
    "print(timesteps)\n",
    "print(input_dim)\n",
    "print(len(X_train))\n",
    "print(X_train.shape)"
   ]
  },
  {
   "cell_type": "code",
   "execution_count": 0,
   "metadata": {
    "colab": {
     "base_uri": "https://localhost:8080/",
     "height": 136
    },
    "colab_type": "code",
    "id": "gXwvCh_A_J-K",
    "outputId": "f7bcd9fb-959b-477d-b32f-44e0c5bd6535"
   },
   "outputs": [
    {
     "data": {
      "text/plain": [
       "array([[0, 0, 0, 0, 1, 0],\n",
       "       [0, 0, 0, 0, 1, 0],\n",
       "       [0, 0, 0, 0, 1, 0],\n",
       "       ...,\n",
       "       [0, 1, 0, 0, 0, 0],\n",
       "       [0, 1, 0, 0, 0, 0],\n",
       "       [0, 1, 0, 0, 0, 0]], dtype=uint8)"
      ]
     },
     "execution_count": 16,
     "metadata": {
      "tags": []
     },
     "output_type": "execute_result"
    }
   ],
   "source": [
    "Y_train"
   ]
  },
  {
   "cell_type": "markdown",
   "metadata": {
    "colab_type": "text",
    "id": "O1Ehdrgd152i"
   },
   "source": [
    "## Defining the Architecture of LSTM"
   ]
  },
  {
   "cell_type": "code",
   "execution_count": 0,
   "metadata": {
    "colab": {},
    "colab_type": "code",
    "id": "N-sUcZto152m",
    "outputId": "75db0ad1-84be-4c1c-c3a8-8170c3ad4817"
   },
   "outputs": [
    {
     "name": "stdout",
     "output_type": "stream",
     "text": [
      "_________________________________________________________________\n",
      "Layer (type)                 Output Shape              Param #   \n",
      "=================================================================\n",
      "lstm_3 (LSTM)                (None, 32)                5376      \n",
      "_________________________________________________________________\n",
      "dropout_3 (Dropout)          (None, 32)                0         \n",
      "_________________________________________________________________\n",
      "dense_3 (Dense)              (None, 6)                 198       \n",
      "=================================================================\n",
      "Total params: 5,574\n",
      "Trainable params: 5,574\n",
      "Non-trainable params: 0\n",
      "_________________________________________________________________\n"
     ]
    }
   ],
   "source": [
    "# Initiliazing the sequential model\n",
    "model = Sequential()\n",
    "# Configuring the parameters\n",
    "model.add(LSTM(n_hidden, input_shape=(timesteps, input_dim)))\n",
    "# Adding a dropout layer\n",
    "model.add(Dropout(0.5))\n",
    "# Adding a dense output layer with sigmoid activation\n",
    "model.add(Dense(n_classes, activation='sigmoid'))\n",
    "model.summary()"
   ]
  },
  {
   "cell_type": "code",
   "execution_count": 0,
   "metadata": {
    "colab": {},
    "colab_type": "code",
    "id": "FqTZLfUK1524"
   },
   "outputs": [],
   "source": [
    "# Compiling the model\n",
    "model.compile(loss='categorical_crossentropy',\n",
    "              optimizer='rmsprop',\n",
    "              metrics=['accuracy'])"
   ]
  },
  {
   "cell_type": "code",
   "execution_count": 0,
   "metadata": {
    "colab": {},
    "colab_type": "code",
    "id": "s8puL7py153G",
    "outputId": "e5bda707-f2f3-4c95-c6a4-73f69918702a"
   },
   "outputs": [
    {
     "name": "stdout",
     "output_type": "stream",
     "text": [
      "Train on 7352 samples, validate on 2947 samples\n",
      "Epoch 1/30\n",
      "7352/7352 [==============================] - 92s 13ms/step - loss: 1.3018 - acc: 0.4395 - val_loss: 1.1254 - val_acc: 0.4662\n",
      "Epoch 2/30\n",
      "7352/7352 [==============================] - 94s 13ms/step - loss: 0.9666 - acc: 0.5880 - val_loss: 0.9491 - val_acc: 0.5714\n",
      "Epoch 3/30\n",
      "7352/7352 [==============================] - 97s 13ms/step - loss: 0.7812 - acc: 0.6408 - val_loss: 0.8286 - val_acc: 0.5850\n",
      "Epoch 4/30\n",
      "7352/7352 [==============================] - 95s 13ms/step - loss: 0.6941 - acc: 0.6574 - val_loss: 0.7297 - val_acc: 0.6128\n",
      "Epoch 5/30\n",
      "7352/7352 [==============================] - 92s 13ms/step - loss: 0.6336 - acc: 0.6912 - val_loss: 0.7359 - val_acc: 0.6787\n",
      "Epoch 6/30\n",
      "7352/7352 [==============================] - 94s 13ms/step - loss: 0.5859 - acc: 0.7134 - val_loss: 0.7015 - val_acc: 0.6939\n",
      "Epoch 7/30\n",
      "7352/7352 [==============================] - 95s 13ms/step - loss: 0.5692 - acc: 0.7477 - val_loss: 0.5995 - val_acc: 0.7387\n",
      "Epoch 8/30\n",
      "7352/7352 [==============================] - 96s 13ms/step - loss: 0.4899 - acc: 0.7809 - val_loss: 0.5762 - val_acc: 0.7387\n",
      "Epoch 9/30\n",
      "7352/7352 [==============================] - 90s 12ms/step - loss: 0.4482 - acc: 0.7886 - val_loss: 0.7413 - val_acc: 0.7126\n",
      "Epoch 10/30\n",
      "7352/7352 [==============================] - 90s 12ms/step - loss: 0.4132 - acc: 0.8077 - val_loss: 0.5048 - val_acc: 0.7513\n",
      "Epoch 11/30\n",
      "7352/7352 [==============================] - 89s 12ms/step - loss: 0.3985 - acc: 0.8274 - val_loss: 0.5234 - val_acc: 0.7452\n",
      "Epoch 12/30\n",
      "7352/7352 [==============================] - 91s 12ms/step - loss: 0.3378 - acc: 0.8638 - val_loss: 0.4114 - val_acc: 0.8833\n",
      "Epoch 13/30\n",
      "7352/7352 [==============================] - 91s 12ms/step - loss: 0.2947 - acc: 0.9051 - val_loss: 0.4386 - val_acc: 0.8731\n",
      "Epoch 14/30\n",
      "7352/7352 [==============================] - 90s 12ms/step - loss: 0.2448 - acc: 0.9291 - val_loss: 0.3768 - val_acc: 0.8921\n",
      "Epoch 15/30\n",
      "7352/7352 [==============================] - 91s 12ms/step - loss: 0.2157 - acc: 0.9331 - val_loss: 0.4441 - val_acc: 0.8931\n",
      "Epoch 16/30\n",
      "7352/7352 [==============================] - 90s 12ms/step - loss: 0.2053 - acc: 0.9366 - val_loss: 0.4162 - val_acc: 0.8968\n",
      "Epoch 17/30\n",
      "7352/7352 [==============================] - 89s 12ms/step - loss: 0.2028 - acc: 0.9404 - val_loss: 0.4538 - val_acc: 0.8962\n",
      "Epoch 18/30\n",
      "7352/7352 [==============================] - 93s 13ms/step - loss: 0.1911 - acc: 0.9419 - val_loss: 0.3964 - val_acc: 0.8999\n",
      "Epoch 19/30\n",
      "7352/7352 [==============================] - 96s 13ms/step - loss: 0.1912 - acc: 0.9407 - val_loss: 0.3165 - val_acc: 0.9030\n",
      "Epoch 20/30\n",
      "7352/7352 [==============================] - 96s 13ms/step - loss: 0.1732 - acc: 0.9446 - val_loss: 0.4546 - val_acc: 0.8904\n",
      "Epoch 21/30\n",
      "7352/7352 [==============================] - 94s 13ms/step - loss: 0.1782 - acc: 0.9444 - val_loss: 0.3346 - val_acc: 0.9063\n",
      "Epoch 22/30\n",
      "7352/7352 [==============================] - 95s 13ms/step - loss: 0.1812 - acc: 0.9418 - val_loss: 0.8164 - val_acc: 0.8582\n",
      "Epoch 23/30\n",
      "7352/7352 [==============================] - 95s 13ms/step - loss: 0.1824 - acc: 0.9426 - val_loss: 0.4240 - val_acc: 0.9036\n",
      "Epoch 24/30\n",
      "7352/7352 [==============================] - 94s 13ms/step - loss: 0.1726 - acc: 0.9429 - val_loss: 0.4067 - val_acc: 0.9148\n",
      "Epoch 25/30\n",
      "7352/7352 [==============================] - 96s 13ms/step - loss: 0.1737 - acc: 0.9411 - val_loss: 0.3396 - val_acc: 0.9074\n",
      "Epoch 26/30\n",
      "7352/7352 [==============================] - 96s 13ms/step - loss: 0.1650 - acc: 0.9461 - val_loss: 0.3806 - val_acc: 0.9019\n",
      "Epoch 27/30\n",
      "7352/7352 [==============================] - 89s 12ms/step - loss: 0.1925 - acc: 0.9415 - val_loss: 0.6464 - val_acc: 0.8850\n",
      "Epoch 28/30\n",
      "7352/7352 [==============================] - 91s 12ms/step - loss: 0.1965 - acc: 0.9425 - val_loss: 0.3363 - val_acc: 0.9203\n",
      "Epoch 29/30\n",
      "7352/7352 [==============================] - 92s 12ms/step - loss: 0.1889 - acc: 0.9431 - val_loss: 0.3737 - val_acc: 0.9158\n",
      "Epoch 30/30\n",
      "7352/7352 [==============================] - 95s 13ms/step - loss: 0.1945 - acc: 0.9414 - val_loss: 0.3088 - val_acc: 0.9097\n"
     ]
    },
    {
     "data": {
      "text/plain": [
       "<keras.callbacks.History at 0x29b5ee36a20>"
      ]
     },
     "execution_count": 23,
     "metadata": {
      "tags": []
     },
     "output_type": "execute_result"
    }
   ],
   "source": [
    "# Training the model\n",
    "model.fit(X_train,\n",
    "          Y_train,\n",
    "          batch_size=batch_size,\n",
    "          validation_data=(X_test, Y_test),\n",
    "          epochs=epochs)"
   ]
  },
  {
   "cell_type": "code",
   "execution_count": 0,
   "metadata": {
    "colab": {},
    "colab_type": "code",
    "id": "Y-5Z2RKU153a",
    "outputId": "0cccf36c-5e42-49ab-f957-7846050a762a"
   },
   "outputs": [
    {
     "name": "stdout",
     "output_type": "stream",
     "text": [
      "Pred                LAYING  SITTING  STANDING  WALKING  WALKING_DOWNSTAIRS  \\\n",
      "True                                                                         \n",
      "LAYING                 512        0        25        0                   0   \n",
      "SITTING                  3      410        75        0                   0   \n",
      "STANDING                 0       87       445        0                   0   \n",
      "WALKING                  0        0         0      481                   2   \n",
      "WALKING_DOWNSTAIRS       0        0         0        0                 382   \n",
      "WALKING_UPSTAIRS         0        0         0        2                  18   \n",
      "\n",
      "Pred                WALKING_UPSTAIRS  \n",
      "True                                  \n",
      "LAYING                             0  \n",
      "SITTING                            3  \n",
      "STANDING                           0  \n",
      "WALKING                           13  \n",
      "WALKING_DOWNSTAIRS                38  \n",
      "WALKING_UPSTAIRS                 451  \n"
     ]
    }
   ],
   "source": [
    "# Confusion Matrix\n",
    "print(confusion_matrix(Y_test, model.predict(X_test)))"
   ]
  },
  {
   "cell_type": "code",
   "execution_count": 0,
   "metadata": {
    "colab": {},
    "colab_type": "code",
    "id": "KTN12jVi153r",
    "outputId": "eddb5a28-0ad3-43b7-ab79-aeb7bc0d9031"
   },
   "outputs": [
    {
     "name": "stdout",
     "output_type": "stream",
     "text": [
      "2947/2947 [==============================] - 4s 2ms/step\n"
     ]
    }
   ],
   "source": [
    "score = model.evaluate(X_test, Y_test)"
   ]
  },
  {
   "cell_type": "code",
   "execution_count": 0,
   "metadata": {
    "colab": {},
    "colab_type": "code",
    "id": "Qr_oQShg153_",
    "outputId": "de5067b1-43ba-4e5c-9c0e-9f9dc79135e2"
   },
   "outputs": [
    {
     "data": {
      "text/plain": [
       "[0.3087582236972612, 0.9097387173396675]"
      ]
     },
     "execution_count": 28,
     "metadata": {
      "tags": []
     },
     "output_type": "execute_result"
    }
   ],
   "source": [
    "score"
   ]
  },
  {
   "cell_type": "markdown",
   "metadata": {
    "colab_type": "text",
    "id": "P1asK1SJ154P"
   },
   "source": [
    "- With a simple 2 layer architecture we got 90.09% accuracy and a loss of 0.30\n",
    "- We can further imporve the performace with Hyperparameter tuning"
   ]
  },
  {
   "cell_type": "markdown",
   "metadata": {
    "colab_type": "text",
    "id": "c-oR6VnPjKJb"
   },
   "source": [
    "## LSTM layer with hidden units 50"
   ]
  },
  {
   "cell_type": "code",
   "execution_count": 0,
   "metadata": {
    "colab": {},
    "colab_type": "code",
    "id": "XaKfC-sIIK-m"
   },
   "outputs": [],
   "source": [
    "epochs = 30\n",
    "batch_size = 16\n",
    "n_hidden = 50"
   ]
  },
  {
   "cell_type": "code",
   "execution_count": 0,
   "metadata": {
    "colab": {
     "base_uri": "https://localhost:8080/",
     "height": 255
    },
    "colab_type": "code",
    "id": "cP5L-qG-_FG0",
    "outputId": "d06fd0bf-b704-4e15-daaa-e7cf924ce6d1"
   },
   "outputs": [
    {
     "name": "stdout",
     "output_type": "stream",
     "text": [
      "Model: \"sequential_1\"\n",
      "_________________________________________________________________\n",
      "Layer (type)                 Output Shape              Param #   \n",
      "=================================================================\n",
      "lstm_1 (LSTM)                (None, 50)                12000     \n",
      "_________________________________________________________________\n",
      "dropout_1 (Dropout)          (None, 50)                0         \n",
      "_________________________________________________________________\n",
      "dense_1 (Dense)              (None, 6)                 306       \n",
      "=================================================================\n",
      "Total params: 12,306\n",
      "Trainable params: 12,306\n",
      "Non-trainable params: 0\n",
      "_________________________________________________________________\n"
     ]
    }
   ],
   "source": [
    "# Initiliazing the sequential model\n",
    "model = Sequential()\n",
    "# Configuring the parameters\n",
    "model.add(LSTM(n_hidden, input_shape=(timesteps, input_dim)))\n",
    "# Adding a dropout layer\n",
    "model.add(Dropout(0.5))\n",
    "# Adding a dense output layer with sigmoid activation\n",
    "model.add(Dense(n_classes, activation='sigmoid'))\n",
    "model.summary()"
   ]
  },
  {
   "cell_type": "code",
   "execution_count": 0,
   "metadata": {
    "colab": {},
    "colab_type": "code",
    "id": "lKSmWGLbIdvI"
   },
   "outputs": [],
   "source": [
    "model.compile(loss='categorical_crossentropy',\n",
    "              optimizer='rmsprop',\n",
    "              metrics=['accuracy'])"
   ]
  },
  {
   "cell_type": "code",
   "execution_count": 0,
   "metadata": {
    "colab": {
     "base_uri": "https://localhost:8080/",
     "height": 1000
    },
    "colab_type": "code",
    "id": "UB3jlm3jKp-O",
    "outputId": "1b83e584-0899-4ab2-fee8-400ff14b0030"
   },
   "outputs": [
    {
     "name": "stdout",
     "output_type": "stream",
     "text": [
      "Train on 7352 samples, validate on 2947 samples\n",
      "Epoch 1/30\n",
      "7352/7352 [==============================] - 30s 4ms/step - loss: 1.2245 - accuracy: 0.4805 - val_loss: 0.9273 - val_accuracy: 0.6291\n",
      "Epoch 2/30\n",
      "7352/7352 [==============================] - 32s 4ms/step - loss: 0.7986 - accuracy: 0.6435 - val_loss: 0.7593 - val_accuracy: 0.6322\n",
      "Epoch 3/30\n",
      "7352/7352 [==============================] - 31s 4ms/step - loss: 0.7042 - accuracy: 0.6668 - val_loss: 0.7221 - val_accuracy: 0.6491\n",
      "Epoch 4/30\n",
      "7352/7352 [==============================] - 30s 4ms/step - loss: 0.5705 - accuracy: 0.7715 - val_loss: 0.6119 - val_accuracy: 0.7933\n",
      "Epoch 5/30\n",
      "7352/7352 [==============================] - 31s 4ms/step - loss: 0.4533 - accuracy: 0.8498 - val_loss: 0.4484 - val_accuracy: 0.8459\n",
      "Epoch 6/30\n",
      "7352/7352 [==============================] - 31s 4ms/step - loss: 0.3434 - accuracy: 0.8980 - val_loss: 0.5086 - val_accuracy: 0.8402\n",
      "Epoch 7/30\n",
      "7352/7352 [==============================] - 30s 4ms/step - loss: 0.2782 - accuracy: 0.9109 - val_loss: 0.5094 - val_accuracy: 0.8232\n",
      "Epoch 8/30\n",
      "7352/7352 [==============================] - 30s 4ms/step - loss: 0.2376 - accuracy: 0.9223 - val_loss: 0.3673 - val_accuracy: 0.8670\n",
      "Epoch 9/30\n",
      "7352/7352 [==============================] - 31s 4ms/step - loss: 0.2113 - accuracy: 0.9283 - val_loss: 0.4149 - val_accuracy: 0.8877\n",
      "Epoch 10/30\n",
      "7352/7352 [==============================] - 31s 4ms/step - loss: 0.2115 - accuracy: 0.9298 - val_loss: 0.3622 - val_accuracy: 0.8918\n",
      "Epoch 11/30\n",
      "7352/7352 [==============================] - 29s 4ms/step - loss: 0.1846 - accuracy: 0.9365 - val_loss: 0.3946 - val_accuracy: 0.8856\n",
      "Epoch 12/30\n",
      "7352/7352 [==============================] - 29s 4ms/step - loss: 0.1844 - accuracy: 0.9359 - val_loss: 0.5115 - val_accuracy: 0.8476\n",
      "Epoch 13/30\n",
      "7352/7352 [==============================] - 30s 4ms/step - loss: 0.1845 - accuracy: 0.9382 - val_loss: 0.3616 - val_accuracy: 0.8968\n",
      "Epoch 14/30\n",
      "7352/7352 [==============================] - 29s 4ms/step - loss: 0.1796 - accuracy: 0.9391 - val_loss: 0.3955 - val_accuracy: 0.8924\n",
      "Epoch 15/30\n",
      "7352/7352 [==============================] - 29s 4ms/step - loss: 0.1777 - accuracy: 0.9406 - val_loss: 0.4987 - val_accuracy: 0.8785\n",
      "Epoch 16/30\n",
      "7352/7352 [==============================] - 29s 4ms/step - loss: 0.1797 - accuracy: 0.9416 - val_loss: 0.3987 - val_accuracy: 0.8901\n",
      "Epoch 17/30\n",
      "7352/7352 [==============================] - 30s 4ms/step - loss: 0.1568 - accuracy: 0.9449 - val_loss: 0.3686 - val_accuracy: 0.8904\n",
      "Epoch 18/30\n",
      "7352/7352 [==============================] - 31s 4ms/step - loss: 0.1953 - accuracy: 0.9346 - val_loss: 0.3931 - val_accuracy: 0.8863\n",
      "Epoch 19/30\n",
      "7352/7352 [==============================] - 31s 4ms/step - loss: 0.1547 - accuracy: 0.9459 - val_loss: 0.6165 - val_accuracy: 0.8877\n",
      "Epoch 20/30\n",
      "7352/7352 [==============================] - 30s 4ms/step - loss: 0.2749 - accuracy: 0.9131 - val_loss: 0.3050 - val_accuracy: 0.9094\n",
      "Epoch 21/30\n",
      "7352/7352 [==============================] - 29s 4ms/step - loss: 0.1711 - accuracy: 0.9445 - val_loss: 0.3854 - val_accuracy: 0.8948\n",
      "Epoch 22/30\n",
      "7352/7352 [==============================] - 30s 4ms/step - loss: 0.1720 - accuracy: 0.9431 - val_loss: 0.3018 - val_accuracy: 0.9026\n",
      "Epoch 23/30\n",
      "7352/7352 [==============================] - 31s 4ms/step - loss: 0.1457 - accuracy: 0.9460 - val_loss: 0.3278 - val_accuracy: 0.9114\n",
      "Epoch 24/30\n",
      "7352/7352 [==============================] - 31s 4ms/step - loss: 0.2021 - accuracy: 0.9400 - val_loss: 0.3906 - val_accuracy: 0.9084\n",
      "Epoch 25/30\n",
      "7352/7352 [==============================] - 30s 4ms/step - loss: 0.1436 - accuracy: 0.9471 - val_loss: 0.2961 - val_accuracy: 0.9101\n",
      "Epoch 26/30\n",
      "7352/7352 [==============================] - 30s 4ms/step - loss: 0.1445 - accuracy: 0.9484 - val_loss: 0.2847 - val_accuracy: 0.9175\n",
      "Epoch 27/30\n",
      "7352/7352 [==============================] - 30s 4ms/step - loss: 0.1467 - accuracy: 0.9490 - val_loss: 0.4584 - val_accuracy: 0.9067\n",
      "Epoch 28/30\n",
      "7352/7352 [==============================] - 29s 4ms/step - loss: 0.1374 - accuracy: 0.9505 - val_loss: 0.4021 - val_accuracy: 0.8968\n",
      "Epoch 29/30\n",
      "7352/7352 [==============================] - 29s 4ms/step - loss: 0.1402 - accuracy: 0.9478 - val_loss: 0.3758 - val_accuracy: 0.9101\n",
      "Epoch 30/30\n",
      "7352/7352 [==============================] - 30s 4ms/step - loss: 0.1430 - accuracy: 0.9504 - val_loss: 0.4077 - val_accuracy: 0.9114\n"
     ]
    },
    {
     "data": {
      "text/plain": [
       "<keras.callbacks.callbacks.History at 0x7fe5aa9e4668>"
      ]
     },
     "execution_count": 25,
     "metadata": {
      "tags": []
     },
     "output_type": "execute_result"
    }
   ],
   "source": [
    "# Training the model\n",
    "model.fit(X_train,\n",
    "          Y_train,\n",
    "          batch_size=batch_size,\n",
    "          validation_data=(X_test, Y_test),\n",
    "          epochs=epochs)"
   ]
  },
  {
   "cell_type": "markdown",
   "metadata": {
    "colab_type": "text",
    "id": "pQ86-MmDjVN8"
   },
   "source": [
    "## LSTM layer with hidden units 100"
   ]
  },
  {
   "cell_type": "code",
   "execution_count": 0,
   "metadata": {
    "colab": {},
    "colab_type": "code",
    "id": "CAbKnBo4KuP6"
   },
   "outputs": [],
   "source": [
    "epochs = 30\n",
    "batch_size = 16\n",
    "n_hidden = 100"
   ]
  },
  {
   "cell_type": "code",
   "execution_count": 0,
   "metadata": {
    "colab": {
     "base_uri": "https://localhost:8080/",
     "height": 255
    },
    "colab_type": "code",
    "id": "ZKka1lcLPPF5",
    "outputId": "a1f6fda6-cf8f-44db-af88-9a4fe2a748cd"
   },
   "outputs": [
    {
     "name": "stdout",
     "output_type": "stream",
     "text": [
      "Model: \"sequential_2\"\n",
      "_________________________________________________________________\n",
      "Layer (type)                 Output Shape              Param #   \n",
      "=================================================================\n",
      "lstm_2 (LSTM)                (None, 100)               44000     \n",
      "_________________________________________________________________\n",
      "dropout_2 (Dropout)          (None, 100)               0         \n",
      "_________________________________________________________________\n",
      "dense_2 (Dense)              (None, 6)                 606       \n",
      "=================================================================\n",
      "Total params: 44,606\n",
      "Trainable params: 44,606\n",
      "Non-trainable params: 0\n",
      "_________________________________________________________________\n"
     ]
    }
   ],
   "source": [
    "# Initiliazing the sequential model\n",
    "model = Sequential()\n",
    "# Configuring the parameters\n",
    "model.add(LSTM(n_hidden, input_shape=(timesteps, input_dim)))\n",
    "# Adding a dropout layer\n",
    "model.add(Dropout(0.5))\n",
    "# Adding a dense output layer with sigmoid activation\n",
    "model.add(Dense(n_classes, activation='sigmoid'))\n",
    "model.summary()"
   ]
  },
  {
   "cell_type": "code",
   "execution_count": 0,
   "metadata": {
    "colab": {},
    "colab_type": "code",
    "id": "g25jvfYjPTUn"
   },
   "outputs": [],
   "source": [
    "model.compile(loss='categorical_crossentropy',\n",
    "              optimizer='rmsprop',\n",
    "              metrics=['accuracy'])"
   ]
  },
  {
   "cell_type": "code",
   "execution_count": 0,
   "metadata": {
    "colab": {
     "base_uri": "https://localhost:8080/",
     "height": 1000
    },
    "colab_type": "code",
    "id": "ZxjMI-HgPXLy",
    "outputId": "92cc9514-42fc-4c95-b928-a7292912e33c"
   },
   "outputs": [
    {
     "name": "stdout",
     "output_type": "stream",
     "text": [
      "Train on 7352 samples, validate on 2947 samples\n",
      "Epoch 1/30\n",
      "7352/7352 [==============================] - 43s 6ms/step - loss: 1.2099 - accuracy: 0.4747 - val_loss: 1.1969 - val_accuracy: 0.4880\n",
      "Epoch 2/30\n",
      "7352/7352 [==============================] - 44s 6ms/step - loss: 0.8234 - accuracy: 0.6240 - val_loss: 0.8039 - val_accuracy: 0.6373\n",
      "Epoch 3/30\n",
      "7352/7352 [==============================] - 44s 6ms/step - loss: 0.6561 - accuracy: 0.7212 - val_loss: 0.7731 - val_accuracy: 0.7431\n",
      "Epoch 4/30\n",
      "7352/7352 [==============================] - 44s 6ms/step - loss: 0.4594 - accuracy: 0.8358 - val_loss: 0.5050 - val_accuracy: 0.8575\n",
      "Epoch 5/30\n",
      "7352/7352 [==============================] - 44s 6ms/step - loss: 0.3005 - accuracy: 0.9014 - val_loss: 0.4458 - val_accuracy: 0.8700\n",
      "Epoch 6/30\n",
      "7352/7352 [==============================] - 44s 6ms/step - loss: 0.2409 - accuracy: 0.9187 - val_loss: 0.9047 - val_accuracy: 0.8144\n",
      "Epoch 7/30\n",
      "7352/7352 [==============================] - 45s 6ms/step - loss: 0.2143 - accuracy: 0.9293 - val_loss: 0.6157 - val_accuracy: 0.8534\n",
      "Epoch 8/30\n",
      "7352/7352 [==============================] - 44s 6ms/step - loss: 0.1985 - accuracy: 0.9338 - val_loss: 0.3297 - val_accuracy: 0.9002\n",
      "Epoch 9/30\n",
      "7352/7352 [==============================] - 44s 6ms/step - loss: 0.1906 - accuracy: 0.9319 - val_loss: 0.3126 - val_accuracy: 0.8958\n",
      "Epoch 10/30\n",
      "7352/7352 [==============================] - 44s 6ms/step - loss: 0.1807 - accuracy: 0.9362 - val_loss: 0.3122 - val_accuracy: 0.8890\n",
      "Epoch 11/30\n",
      "7352/7352 [==============================] - 44s 6ms/step - loss: 0.1603 - accuracy: 0.9440 - val_loss: 0.3206 - val_accuracy: 0.9158\n",
      "Epoch 12/30\n",
      "7352/7352 [==============================] - 44s 6ms/step - loss: 0.1674 - accuracy: 0.9427 - val_loss: 0.5436 - val_accuracy: 0.8887\n",
      "Epoch 13/30\n",
      "7352/7352 [==============================] - 44s 6ms/step - loss: 0.1646 - accuracy: 0.9445 - val_loss: 0.3565 - val_accuracy: 0.8836\n",
      "Epoch 14/30\n",
      "7352/7352 [==============================] - 45s 6ms/step - loss: 0.1606 - accuracy: 0.9415 - val_loss: 0.3595 - val_accuracy: 0.9080\n",
      "Epoch 15/30\n",
      "7352/7352 [==============================] - 45s 6ms/step - loss: 0.1471 - accuracy: 0.9474 - val_loss: 0.2843 - val_accuracy: 0.9033\n",
      "Epoch 16/30\n",
      "7352/7352 [==============================] - 44s 6ms/step - loss: 0.1425 - accuracy: 0.9459 - val_loss: 0.3399 - val_accuracy: 0.9077\n",
      "Epoch 17/30\n",
      "7352/7352 [==============================] - 44s 6ms/step - loss: 0.1533 - accuracy: 0.9475 - val_loss: 0.3868 - val_accuracy: 0.8968\n",
      "Epoch 18/30\n",
      "7352/7352 [==============================] - 44s 6ms/step - loss: 0.1371 - accuracy: 0.9509 - val_loss: 0.4026 - val_accuracy: 0.9050\n",
      "Epoch 19/30\n",
      "7352/7352 [==============================] - 44s 6ms/step - loss: 0.1476 - accuracy: 0.9472 - val_loss: 0.2758 - val_accuracy: 0.9155\n",
      "Epoch 20/30\n",
      "7352/7352 [==============================] - 44s 6ms/step - loss: 0.1336 - accuracy: 0.9508 - val_loss: 0.5425 - val_accuracy: 0.8931\n",
      "Epoch 21/30\n",
      "7352/7352 [==============================] - 45s 6ms/step - loss: 0.1632 - accuracy: 0.9427 - val_loss: 0.2898 - val_accuracy: 0.9097\n",
      "Epoch 22/30\n",
      "7352/7352 [==============================] - 44s 6ms/step - loss: 0.1360 - accuracy: 0.9498 - val_loss: 0.4142 - val_accuracy: 0.9125\n",
      "Epoch 23/30\n",
      "7352/7352 [==============================] - 44s 6ms/step - loss: 0.1351 - accuracy: 0.9506 - val_loss: 0.2514 - val_accuracy: 0.9175\n",
      "Epoch 24/30\n",
      "7352/7352 [==============================] - 44s 6ms/step - loss: 0.1338 - accuracy: 0.9514 - val_loss: 0.4072 - val_accuracy: 0.9087\n",
      "Epoch 25/30\n",
      "7352/7352 [==============================] - 44s 6ms/step - loss: 0.1238 - accuracy: 0.9501 - val_loss: 0.4091 - val_accuracy: 0.9264\n",
      "Epoch 26/30\n",
      "7352/7352 [==============================] - 44s 6ms/step - loss: 0.1351 - accuracy: 0.9518 - val_loss: 0.2663 - val_accuracy: 0.9247\n",
      "Epoch 27/30\n",
      "7352/7352 [==============================] - 44s 6ms/step - loss: 0.1271 - accuracy: 0.9510 - val_loss: 0.3760 - val_accuracy: 0.9152\n",
      "Epoch 28/30\n",
      "7352/7352 [==============================] - 45s 6ms/step - loss: 0.1314 - accuracy: 0.9510 - val_loss: 0.3641 - val_accuracy: 0.9165\n",
      "Epoch 29/30\n",
      "7352/7352 [==============================] - 44s 6ms/step - loss: 0.1236 - accuracy: 0.9506 - val_loss: 0.4345 - val_accuracy: 0.9165\n",
      "Epoch 30/30\n",
      "7352/7352 [==============================] - 44s 6ms/step - loss: 0.1282 - accuracy: 0.9498 - val_loss: 0.4337 - val_accuracy: 0.9097\n"
     ]
    },
    {
     "data": {
      "text/plain": [
       "<keras.callbacks.callbacks.History at 0x7fe6519ae470>"
      ]
     },
     "execution_count": 29,
     "metadata": {
      "tags": []
     },
     "output_type": "execute_result"
    }
   ],
   "source": [
    "# Training the model\n",
    "model.fit(X_train,\n",
    "          Y_train,\n",
    "          batch_size=batch_size,\n",
    "          validation_data=(X_test, Y_test),\n",
    "          epochs=epochs)"
   ]
  },
  {
   "cell_type": "markdown",
   "metadata": {
    "colab_type": "text",
    "id": "ToRuS6IIpSUW"
   },
   "source": [
    "## LSTM layer with hidden units 50 and Stacked 2 LSTM layer "
   ]
  },
  {
   "cell_type": "code",
   "execution_count": 0,
   "metadata": {
    "colab": {},
    "colab_type": "code",
    "id": "DPdqrsGTVxDi"
   },
   "outputs": [],
   "source": [
    "epochs = 30\n",
    "batch_size = 16\n",
    "n_hidden = 50"
   ]
  },
  {
   "cell_type": "code",
   "execution_count": 0,
   "metadata": {
    "colab": {
     "base_uri": "https://localhost:8080/",
     "height": 289
    },
    "colab_type": "code",
    "id": "fy14wiO-PZH3",
    "outputId": "27b659d7-90a4-459b-e31a-6d6d1880c4dd"
   },
   "outputs": [
    {
     "name": "stdout",
     "output_type": "stream",
     "text": [
      "Model: \"sequential_3\"\n",
      "_________________________________________________________________\n",
      "Layer (type)                 Output Shape              Param #   \n",
      "=================================================================\n",
      "lstm_3 (LSTM)                (None, 128, 50)           12000     \n",
      "_________________________________________________________________\n",
      "lstm_4 (LSTM)                (None, 50)                20200     \n",
      "_________________________________________________________________\n",
      "dropout_3 (Dropout)          (None, 50)                0         \n",
      "_________________________________________________________________\n",
      "dense_3 (Dense)              (None, 6)                 306       \n",
      "=================================================================\n",
      "Total params: 32,506\n",
      "Trainable params: 32,506\n",
      "Non-trainable params: 0\n",
      "_________________________________________________________________\n"
     ]
    }
   ],
   "source": [
    "# Initiliazing the sequential model\n",
    "model = Sequential()\n",
    "# Configuring the parameters\n",
    "model.add(LSTM(n_hidden, input_shape=(timesteps, input_dim),return_sequences=True))\n",
    "model.add(LSTM(n_hidden, input_shape=(timesteps, input_dim)))\n",
    "# Adding a dropout layer\n",
    "model.add(Dropout(0.5))\n",
    "# Adding a dense output layer with sigmoid activation\n",
    "model.add(Dense(n_classes, activation='sigmoid'))\n",
    "model.summary()"
   ]
  },
  {
   "cell_type": "code",
   "execution_count": 0,
   "metadata": {
    "colab": {},
    "colab_type": "code",
    "id": "kQMBZL-VV1fW"
   },
   "outputs": [],
   "source": [
    "model.compile(loss='categorical_crossentropy',\n",
    "              optimizer='rmsprop',\n",
    "              metrics=['accuracy'])"
   ]
  },
  {
   "cell_type": "code",
   "execution_count": 0,
   "metadata": {
    "colab": {
     "base_uri": "https://localhost:8080/",
     "height": 1000
    },
    "colab_type": "code",
    "id": "ZqCH-LL1V5Ba",
    "outputId": "a975229d-a476-483d-d47f-1559e7002808"
   },
   "outputs": [
    {
     "name": "stdout",
     "output_type": "stream",
     "text": [
      "Train on 7352 samples, validate on 2947 samples\n",
      "Epoch 1/30\n",
      "7352/7352 [==============================] - 61s 8ms/step - loss: 1.0297 - accuracy: 0.5866 - val_loss: 1.0364 - val_accuracy: 0.5786\n",
      "Epoch 2/30\n",
      "7352/7352 [==============================] - 61s 8ms/step - loss: 0.6456 - accuracy: 0.7368 - val_loss: 0.5441 - val_accuracy: 0.7659\n",
      "Epoch 3/30\n",
      "7352/7352 [==============================] - 62s 8ms/step - loss: 0.5060 - accuracy: 0.8007 - val_loss: 0.5274 - val_accuracy: 0.7947\n",
      "Epoch 4/30\n",
      "7352/7352 [==============================] - 61s 8ms/step - loss: 0.3760 - accuracy: 0.8837 - val_loss: 0.3860 - val_accuracy: 0.8799\n",
      "Epoch 5/30\n",
      "7352/7352 [==============================] - 61s 8ms/step - loss: 0.2305 - accuracy: 0.9261 - val_loss: 0.5078 - val_accuracy: 0.8619\n",
      "Epoch 6/30\n",
      "7352/7352 [==============================] - 61s 8ms/step - loss: 0.1899 - accuracy: 0.9397 - val_loss: 0.5318 - val_accuracy: 0.8853\n",
      "Epoch 7/30\n",
      "7352/7352 [==============================] - 61s 8ms/step - loss: 0.1733 - accuracy: 0.9423 - val_loss: 0.5450 - val_accuracy: 0.8714\n",
      "Epoch 8/30\n",
      "7352/7352 [==============================] - 62s 8ms/step - loss: 0.1638 - accuracy: 0.9442 - val_loss: 0.3468 - val_accuracy: 0.9175\n",
      "Epoch 9/30\n",
      "7352/7352 [==============================] - 61s 8ms/step - loss: 0.1603 - accuracy: 0.9445 - val_loss: 0.5124 - val_accuracy: 0.8955\n",
      "Epoch 10/30\n",
      "7352/7352 [==============================] - 61s 8ms/step - loss: 0.1512 - accuracy: 0.9480 - val_loss: 0.4302 - val_accuracy: 0.9087\n",
      "Epoch 11/30\n",
      "7352/7352 [==============================] - 61s 8ms/step - loss: 0.1577 - accuracy: 0.9487 - val_loss: 0.4821 - val_accuracy: 0.9009\n",
      "Epoch 12/30\n",
      "7352/7352 [==============================] - 61s 8ms/step - loss: 0.1399 - accuracy: 0.9494 - val_loss: 0.4780 - val_accuracy: 0.9118\n",
      "Epoch 13/30\n",
      "7352/7352 [==============================] - 62s 8ms/step - loss: 0.1467 - accuracy: 0.9476 - val_loss: 0.5243 - val_accuracy: 0.9118\n",
      "Epoch 14/30\n",
      "7352/7352 [==============================] - 61s 8ms/step - loss: 0.1439 - accuracy: 0.9502 - val_loss: 0.4510 - val_accuracy: 0.9155\n",
      "Epoch 15/30\n",
      "7352/7352 [==============================] - 60s 8ms/step - loss: 0.1393 - accuracy: 0.9484 - val_loss: 0.4472 - val_accuracy: 0.9114\n",
      "Epoch 16/30\n",
      "7352/7352 [==============================] - 60s 8ms/step - loss: 0.1423 - accuracy: 0.9535 - val_loss: 0.5377 - val_accuracy: 0.9067\n",
      "Epoch 17/30\n",
      "7352/7352 [==============================] - 61s 8ms/step - loss: 0.1413 - accuracy: 0.9470 - val_loss: 0.4461 - val_accuracy: 0.9243\n",
      "Epoch 18/30\n",
      "7352/7352 [==============================] - 61s 8ms/step - loss: 0.1333 - accuracy: 0.9495 - val_loss: 0.5249 - val_accuracy: 0.9162\n",
      "Epoch 19/30\n",
      "7352/7352 [==============================] - 60s 8ms/step - loss: 0.1227 - accuracy: 0.9512 - val_loss: 0.7599 - val_accuracy: 0.8721\n",
      "Epoch 20/30\n",
      "7352/7352 [==============================] - 61s 8ms/step - loss: 0.1269 - accuracy: 0.9505 - val_loss: 0.3871 - val_accuracy: 0.9230\n",
      "Epoch 21/30\n",
      "7352/7352 [==============================] - 61s 8ms/step - loss: 0.1319 - accuracy: 0.9505 - val_loss: 0.4414 - val_accuracy: 0.8955\n",
      "Epoch 22/30\n",
      "7352/7352 [==============================] - 60s 8ms/step - loss: 0.1276 - accuracy: 0.9523 - val_loss: 0.4278 - val_accuracy: 0.9114\n",
      "Epoch 23/30\n",
      "7352/7352 [==============================] - 61s 8ms/step - loss: 0.1239 - accuracy: 0.9520 - val_loss: 0.4113 - val_accuracy: 0.9108\n",
      "Epoch 24/30\n",
      "7352/7352 [==============================] - 60s 8ms/step - loss: 0.1269 - accuracy: 0.9540 - val_loss: 0.7708 - val_accuracy: 0.8819\n",
      "Epoch 25/30\n",
      "7352/7352 [==============================] - 61s 8ms/step - loss: 0.1427 - accuracy: 0.9512 - val_loss: 0.5201 - val_accuracy: 0.9063\n",
      "Epoch 26/30\n",
      "7352/7352 [==============================] - 61s 8ms/step - loss: 0.1236 - accuracy: 0.9518 - val_loss: 0.6123 - val_accuracy: 0.9063\n",
      "Epoch 27/30\n",
      "7352/7352 [==============================] - 61s 8ms/step - loss: 0.1253 - accuracy: 0.9539 - val_loss: 0.5630 - val_accuracy: 0.9084\n",
      "Epoch 28/30\n",
      "7352/7352 [==============================] - 62s 8ms/step - loss: 0.1251 - accuracy: 0.9529 - val_loss: 0.6175 - val_accuracy: 0.9050\n",
      "Epoch 29/30\n",
      "7352/7352 [==============================] - 61s 8ms/step - loss: 0.1183 - accuracy: 0.9570 - val_loss: 0.6973 - val_accuracy: 0.8996\n",
      "Epoch 30/30\n",
      "7352/7352 [==============================] - 61s 8ms/step - loss: 0.1325 - accuracy: 0.9532 - val_loss: 0.4317 - val_accuracy: 0.9152\n"
     ]
    },
    {
     "data": {
      "text/plain": [
       "<keras.callbacks.callbacks.History at 0x7fe5a985d080>"
      ]
     },
     "execution_count": 33,
     "metadata": {
      "tags": []
     },
     "output_type": "execute_result"
    }
   ],
   "source": [
    "# Training the model\n",
    "model.fit(X_train,\n",
    "          Y_train,\n",
    "          batch_size=batch_size,\n",
    "          validation_data=(X_test, Y_test),\n",
    "          epochs=epochs)"
   ]
  },
  {
   "cell_type": "markdown",
   "metadata": {
    "colab_type": "text",
    "id": "8Hl3tJl5pyoq"
   },
   "source": [
    "## LSTM layer with hidden units 100 and Stacked 2 LSTM layer with Dropout 0.7"
   ]
  },
  {
   "cell_type": "code",
   "execution_count": 0,
   "metadata": {
    "colab": {},
    "colab_type": "code",
    "id": "M2IvVR2GV7eK"
   },
   "outputs": [],
   "source": [
    "epochs = 30\n",
    "batch_size = 16\n",
    "n_hidden = 100"
   ]
  },
  {
   "cell_type": "code",
   "execution_count": 0,
   "metadata": {
    "colab": {
     "base_uri": "https://localhost:8080/",
     "height": 289
    },
    "colab_type": "code",
    "id": "pmfCTycEnbXf",
    "outputId": "74da7d76-dbae-4888-d152-6b3516f9625a"
   },
   "outputs": [
    {
     "name": "stdout",
     "output_type": "stream",
     "text": [
      "Model: \"sequential_4\"\n",
      "_________________________________________________________________\n",
      "Layer (type)                 Output Shape              Param #   \n",
      "=================================================================\n",
      "lstm_5 (LSTM)                (None, 128, 100)          44000     \n",
      "_________________________________________________________________\n",
      "lstm_6 (LSTM)                (None, 100)               80400     \n",
      "_________________________________________________________________\n",
      "dropout_4 (Dropout)          (None, 100)               0         \n",
      "_________________________________________________________________\n",
      "dense_4 (Dense)              (None, 6)                 606       \n",
      "=================================================================\n",
      "Total params: 125,006\n",
      "Trainable params: 125,006\n",
      "Non-trainable params: 0\n",
      "_________________________________________________________________\n"
     ]
    }
   ],
   "source": [
    "# Initiliazing the sequential model\n",
    "model = Sequential()\n",
    "# Configuring the parameters\n",
    "model.add(LSTM(n_hidden, input_shape=(timesteps, input_dim),return_sequences=True,))\n",
    "model.add(LSTM(n_hidden, input_shape=(timesteps, input_dim)))\n",
    "# Adding a dropout layer\n",
    "model.add(Dropout(0.7))\n",
    "# Adding a dense output layer with sigmoid activation\n",
    "model.add(Dense(n_classes, activation='sigmoid'))\n",
    "model.summary()"
   ]
  },
  {
   "cell_type": "code",
   "execution_count": 0,
   "metadata": {
    "colab": {},
    "colab_type": "code",
    "id": "UqnihmGVstdg"
   },
   "outputs": [],
   "source": [
    "model.compile(loss='categorical_crossentropy',\n",
    "              optimizer='rmsprop',\n",
    "              metrics=['accuracy'])"
   ]
  },
  {
   "cell_type": "code",
   "execution_count": 0,
   "metadata": {
    "colab": {
     "base_uri": "https://localhost:8080/",
     "height": 1000
    },
    "colab_type": "code",
    "id": "Xiv4oJYisyKT",
    "outputId": "0a71e79b-ad67-45e6-a7cf-bad40f0e757a"
   },
   "outputs": [
    {
     "name": "stdout",
     "output_type": "stream",
     "text": [
      "Train on 7352 samples, validate on 2947 samples\n",
      "Epoch 1/30\n",
      "7352/7352 [==============================] - 87s 12ms/step - loss: 1.0227 - accuracy: 0.5442 - val_loss: 1.3878 - val_accuracy: 0.4710\n",
      "Epoch 2/30\n",
      "7352/7352 [==============================] - 87s 12ms/step - loss: 0.7390 - accuracy: 0.6786 - val_loss: 0.7332 - val_accuracy: 0.7106\n",
      "Epoch 3/30\n",
      "7352/7352 [==============================] - 90s 12ms/step - loss: 0.5430 - accuracy: 0.7961 - val_loss: 0.4565 - val_accuracy: 0.8592\n",
      "Epoch 4/30\n",
      "7352/7352 [==============================] - 90s 12ms/step - loss: 0.3026 - accuracy: 0.9083 - val_loss: 0.4813 - val_accuracy: 0.8772\n",
      "Epoch 5/30\n",
      "7352/7352 [==============================] - 90s 12ms/step - loss: 0.2307 - accuracy: 0.9212 - val_loss: 0.3086 - val_accuracy: 0.9108\n",
      "Epoch 6/30\n",
      "7352/7352 [==============================] - 90s 12ms/step - loss: 0.1905 - accuracy: 0.9363 - val_loss: 0.8151 - val_accuracy: 0.8459\n",
      "Epoch 7/30\n",
      "7352/7352 [==============================] - 90s 12ms/step - loss: 0.3205 - accuracy: 0.8917 - val_loss: 0.4231 - val_accuracy: 0.8965\n",
      "Epoch 8/30\n",
      "7352/7352 [==============================] - 92s 12ms/step - loss: 0.1774 - accuracy: 0.9408 - val_loss: 0.4497 - val_accuracy: 0.8911\n",
      "Epoch 9/30\n",
      "7352/7352 [==============================] - 90s 12ms/step - loss: 0.1517 - accuracy: 0.9470 - val_loss: 0.4013 - val_accuracy: 0.9169\n",
      "Epoch 10/30\n",
      "7352/7352 [==============================] - 90s 12ms/step - loss: 0.1614 - accuracy: 0.9482 - val_loss: 0.4548 - val_accuracy: 0.9125\n",
      "Epoch 11/30\n",
      "7352/7352 [==============================] - 91s 12ms/step - loss: 0.1704 - accuracy: 0.9448 - val_loss: 0.3814 - val_accuracy: 0.9162\n",
      "Epoch 12/30\n",
      "7352/7352 [==============================] - 91s 12ms/step - loss: 0.1413 - accuracy: 0.9476 - val_loss: 0.4954 - val_accuracy: 0.9087\n",
      "Epoch 13/30\n",
      "7352/7352 [==============================] - 93s 13ms/step - loss: 0.1461 - accuracy: 0.9474 - val_loss: 0.5313 - val_accuracy: 0.9074\n",
      "Epoch 14/30\n",
      "7352/7352 [==============================] - 91s 12ms/step - loss: 0.1467 - accuracy: 0.9479 - val_loss: 0.3885 - val_accuracy: 0.9148\n",
      "Epoch 15/30\n",
      "7352/7352 [==============================] - 92s 12ms/step - loss: 0.1476 - accuracy: 0.9475 - val_loss: 0.4466 - val_accuracy: 0.9080\n",
      "Epoch 16/30\n",
      "7352/7352 [==============================] - 90s 12ms/step - loss: 0.1486 - accuracy: 0.9518 - val_loss: 0.4658 - val_accuracy: 0.9141\n",
      "Epoch 17/30\n",
      "7352/7352 [==============================] - 91s 12ms/step - loss: 0.1406 - accuracy: 0.9505 - val_loss: 0.6263 - val_accuracy: 0.8938\n",
      "Epoch 18/30\n",
      "7352/7352 [==============================] - 92s 12ms/step - loss: 0.1393 - accuracy: 0.9524 - val_loss: 0.5257 - val_accuracy: 0.9019\n",
      "Epoch 19/30\n",
      "7352/7352 [==============================] - 91s 12ms/step - loss: 0.1444 - accuracy: 0.9489 - val_loss: 0.5855 - val_accuracy: 0.9077\n",
      "Epoch 20/30\n",
      "7352/7352 [==============================] - 91s 12ms/step - loss: 0.1585 - accuracy: 0.9480 - val_loss: 0.6387 - val_accuracy: 0.8962\n",
      "Epoch 21/30\n",
      "7352/7352 [==============================] - 91s 12ms/step - loss: 0.1455 - accuracy: 0.9479 - val_loss: 0.5438 - val_accuracy: 0.9141\n",
      "Epoch 22/30\n",
      "7352/7352 [==============================] - 91s 12ms/step - loss: 0.1363 - accuracy: 0.9499 - val_loss: 0.5109 - val_accuracy: 0.9108\n",
      "Epoch 23/30\n",
      "7352/7352 [==============================] - 91s 12ms/step - loss: 0.1387 - accuracy: 0.9523 - val_loss: 0.6305 - val_accuracy: 0.9114\n",
      "Epoch 24/30\n",
      "7352/7352 [==============================] - 90s 12ms/step - loss: 0.1345 - accuracy: 0.9509 - val_loss: 0.6063 - val_accuracy: 0.9080\n",
      "Epoch 25/30\n",
      "7352/7352 [==============================] - 91s 12ms/step - loss: 0.1440 - accuracy: 0.9483 - val_loss: 0.7791 - val_accuracy: 0.8965\n",
      "Epoch 26/30\n",
      "7352/7352 [==============================] - 90s 12ms/step - loss: 0.1306 - accuracy: 0.9514 - val_loss: 0.4863 - val_accuracy: 0.9135\n",
      "Epoch 27/30\n",
      "7352/7352 [==============================] - 90s 12ms/step - loss: 0.1374 - accuracy: 0.9476 - val_loss: 0.8820 - val_accuracy: 0.8890\n",
      "Epoch 28/30\n",
      "7352/7352 [==============================] - 91s 12ms/step - loss: 0.1315 - accuracy: 0.9544 - val_loss: 0.4914 - val_accuracy: 0.9257\n",
      "Epoch 29/30\n",
      "7352/7352 [==============================] - 91s 12ms/step - loss: 0.1275 - accuracy: 0.9542 - val_loss: 0.5939 - val_accuracy: 0.9172\n",
      "Epoch 30/30\n",
      "7352/7352 [==============================] - 91s 12ms/step - loss: 0.1362 - accuracy: 0.9516 - val_loss: 0.5559 - val_accuracy: 0.9206\n"
     ]
    },
    {
     "data": {
      "text/plain": [
       "<keras.callbacks.callbacks.History at 0x7fe5a9422860>"
      ]
     },
     "execution_count": 38,
     "metadata": {
      "tags": []
     },
     "output_type": "execute_result"
    }
   ],
   "source": [
    "# Training the model\n",
    "model.fit(X_train,\n",
    "          Y_train,\n",
    "          batch_size=batch_size,\n",
    "          validation_data=(X_test, Y_test),\n",
    "          epochs=epochs)"
   ]
  },
  {
   "cell_type": "markdown",
   "metadata": {
    "colab_type": "text",
    "id": "YaHUeLqhqGq_"
   },
   "source": [
    "## LSTM layer with hidden units 200 and Stacked 2 LSTM Layer with Dropout 0.7"
   ]
  },
  {
   "cell_type": "code",
   "execution_count": 0,
   "metadata": {
    "colab": {},
    "colab_type": "code",
    "id": "koeNuJn7s3sS"
   },
   "outputs": [],
   "source": [
    "epochs = 30\n",
    "batch_size = 16\n",
    "n_hidden = 200"
   ]
  },
  {
   "cell_type": "code",
   "execution_count": 0,
   "metadata": {
    "colab": {
     "base_uri": "https://localhost:8080/",
     "height": 289
    },
    "colab_type": "code",
    "id": "85HmnrfZImaE",
    "outputId": "65d0a332-e8f2-496c-a085-b81edd719b52"
   },
   "outputs": [
    {
     "name": "stdout",
     "output_type": "stream",
     "text": [
      "Model: \"sequential_8\"\n",
      "_________________________________________________________________\n",
      "Layer (type)                 Output Shape              Param #   \n",
      "=================================================================\n",
      "lstm_13 (LSTM)               (None, 128, 200)          168000    \n",
      "_________________________________________________________________\n",
      "lstm_14 (LSTM)               (None, 200)               320800    \n",
      "_________________________________________________________________\n",
      "dropout_8 (Dropout)          (None, 200)               0         \n",
      "_________________________________________________________________\n",
      "dense_8 (Dense)              (None, 6)                 1206      \n",
      "=================================================================\n",
      "Total params: 490,006\n",
      "Trainable params: 490,006\n",
      "Non-trainable params: 0\n",
      "_________________________________________________________________\n"
     ]
    }
   ],
   "source": [
    "# Initiliazing the sequential model\n",
    "model = Sequential()\n",
    "# Configuring the parameters\n",
    "model.add(LSTM(n_hidden, input_shape=(timesteps, input_dim),return_sequences=True))\n",
    "model.add(LSTM(n_hidden, input_shape=(timesteps, input_dim)))\n",
    "# Adding a dropout layer\n",
    "model.add(Dropout(0.7))\n",
    "# Adding a dense output layer with sigmoid activation\n",
    "model.add(Dense(n_classes, activation='sigmoid'))\n",
    "model.summary()"
   ]
  },
  {
   "cell_type": "code",
   "execution_count": 0,
   "metadata": {
    "colab": {},
    "colab_type": "code",
    "id": "rrvokN-8ItjU"
   },
   "outputs": [],
   "source": [
    "model.compile(loss='categorical_crossentropy',\n",
    "              optimizer='rmsprop',\n",
    "              metrics=['accuracy'])"
   ]
  },
  {
   "cell_type": "code",
   "execution_count": 0,
   "metadata": {
    "colab": {
     "base_uri": "https://localhost:8080/",
     "height": 1000
    },
    "colab_type": "code",
    "id": "X2xLhWcOI7yB",
    "outputId": "810fab42-60ca-42eb-9982-51e359624755"
   },
   "outputs": [
    {
     "name": "stdout",
     "output_type": "stream",
     "text": [
      "Train on 7352 samples, validate on 2947 samples\n",
      "Epoch 1/30\n",
      "7352/7352 [==============================] - 201s 27ms/step - loss: 1.2386 - accuracy: 0.4478 - val_loss: 1.2469 - val_accuracy: 0.4601\n",
      "Epoch 2/30\n",
      "7352/7352 [==============================] - 198s 27ms/step - loss: 1.1362 - accuracy: 0.4927 - val_loss: 1.0139 - val_accuracy: 0.5300\n",
      "Epoch 3/30\n",
      "7352/7352 [==============================] - 199s 27ms/step - loss: 1.1668 - accuracy: 0.4853 - val_loss: 0.8508 - val_accuracy: 0.6016\n",
      "Epoch 4/30\n",
      "7352/7352 [==============================] - 198s 27ms/step - loss: 0.7243 - accuracy: 0.6404 - val_loss: 0.7373 - val_accuracy: 0.6077\n",
      "Epoch 5/30\n",
      "7352/7352 [==============================] - 199s 27ms/step - loss: 0.6769 - accuracy: 0.6869 - val_loss: 1.3507 - val_accuracy: 0.5921\n",
      "Epoch 6/30\n",
      "7352/7352 [==============================] - 199s 27ms/step - loss: 0.4137 - accuracy: 0.8570 - val_loss: 0.4040 - val_accuracy: 0.8565\n",
      "Epoch 7/30\n",
      "7352/7352 [==============================] - 199s 27ms/step - loss: 0.2582 - accuracy: 0.9087 - val_loss: 0.5350 - val_accuracy: 0.8449\n",
      "Epoch 8/30\n",
      "7352/7352 [==============================] - 199s 27ms/step - loss: 0.1973 - accuracy: 0.9276 - val_loss: 0.5600 - val_accuracy: 0.8687\n",
      "Epoch 9/30\n",
      "7352/7352 [==============================] - 199s 27ms/step - loss: 0.2003 - accuracy: 0.9297 - val_loss: 0.4190 - val_accuracy: 0.8799\n",
      "Epoch 10/30\n",
      "7352/7352 [==============================] - 199s 27ms/step - loss: 0.1715 - accuracy: 0.9403 - val_loss: 0.3767 - val_accuracy: 0.8958\n",
      "Epoch 11/30\n",
      "7352/7352 [==============================] - 200s 27ms/step - loss: 0.1737 - accuracy: 0.9410 - val_loss: 0.4010 - val_accuracy: 0.9162\n",
      "Epoch 12/30\n",
      "7352/7352 [==============================] - 199s 27ms/step - loss: 0.1726 - accuracy: 0.9434 - val_loss: 0.4281 - val_accuracy: 0.8985\n",
      "Epoch 13/30\n",
      "7352/7352 [==============================] - 200s 27ms/step - loss: 0.1631 - accuracy: 0.9425 - val_loss: 0.5152 - val_accuracy: 0.9165\n",
      "Epoch 14/30\n",
      "7352/7352 [==============================] - 201s 27ms/step - loss: 0.1471 - accuracy: 0.9470 - val_loss: 0.4265 - val_accuracy: 0.8996\n",
      "Epoch 15/30\n",
      "7352/7352 [==============================] - 199s 27ms/step - loss: 0.1678 - accuracy: 0.9429 - val_loss: 0.4384 - val_accuracy: 0.9070\n",
      "Epoch 16/30\n",
      "7352/7352 [==============================] - 200s 27ms/step - loss: 0.1545 - accuracy: 0.9479 - val_loss: 0.4240 - val_accuracy: 0.9111\n",
      "Epoch 17/30\n",
      "7352/7352 [==============================] - 198s 27ms/step - loss: 0.1451 - accuracy: 0.9472 - val_loss: 0.2985 - val_accuracy: 0.9233\n",
      "Epoch 18/30\n",
      "7352/7352 [==============================] - 199s 27ms/step - loss: 0.1478 - accuracy: 0.9436 - val_loss: 0.4533 - val_accuracy: 0.9043\n",
      "Epoch 19/30\n",
      "7352/7352 [==============================] - 201s 27ms/step - loss: 0.1408 - accuracy: 0.9514 - val_loss: 0.7595 - val_accuracy: 0.8833\n",
      "Epoch 20/30\n",
      "7352/7352 [==============================] - 198s 27ms/step - loss: 0.1510 - accuracy: 0.9502 - val_loss: 0.4704 - val_accuracy: 0.9179\n",
      "Epoch 21/30\n",
      "7352/7352 [==============================] - 199s 27ms/step - loss: 0.1494 - accuracy: 0.9449 - val_loss: 0.4327 - val_accuracy: 0.9141\n",
      "Epoch 22/30\n",
      "7352/7352 [==============================] - 199s 27ms/step - loss: 0.1526 - accuracy: 0.9464 - val_loss: 0.5509 - val_accuracy: 0.8948\n",
      "Epoch 23/30\n",
      "7352/7352 [==============================] - 198s 27ms/step - loss: 0.1298 - accuracy: 0.9508 - val_loss: 0.3157 - val_accuracy: 0.9206\n",
      "Epoch 24/30\n",
      "7352/7352 [==============================] - 199s 27ms/step - loss: 0.1456 - accuracy: 0.9475 - val_loss: 0.5093 - val_accuracy: 0.9111\n",
      "Epoch 25/30\n",
      "7352/7352 [==============================] - 199s 27ms/step - loss: 0.1502 - accuracy: 0.9489 - val_loss: 0.4300 - val_accuracy: 0.9182\n",
      "Epoch 26/30\n",
      "7352/7352 [==============================] - 199s 27ms/step - loss: 0.1636 - accuracy: 0.9486 - val_loss: 0.4425 - val_accuracy: 0.9094\n",
      "Epoch 27/30\n",
      "7352/7352 [==============================] - 199s 27ms/step - loss: 0.1596 - accuracy: 0.9497 - val_loss: 0.4461 - val_accuracy: 0.9233\n",
      "Epoch 28/30\n",
      "7352/7352 [==============================] - 200s 27ms/step - loss: 0.1849 - accuracy: 0.9392 - val_loss: 0.5518 - val_accuracy: 0.9128\n",
      "Epoch 29/30\n",
      "7352/7352 [==============================] - 200s 27ms/step - loss: 0.1469 - accuracy: 0.9491 - val_loss: 0.4572 - val_accuracy: 0.9111\n",
      "Epoch 30/30\n",
      "7352/7352 [==============================] - 200s 27ms/step - loss: 0.1663 - accuracy: 0.9461 - val_loss: 0.4729 - val_accuracy: 0.9135\n"
     ]
    },
    {
     "data": {
      "text/plain": [
       "<keras.callbacks.callbacks.History at 0x7fe5a86cf128>"
      ]
     },
     "execution_count": 54,
     "metadata": {
      "tags": []
     },
     "output_type": "execute_result"
    }
   ],
   "source": [
    "# Training the model\n",
    "model.fit(X_train,\n",
    "          Y_train,\n",
    "          batch_size=batch_size,\n",
    "          validation_data=(X_test, Y_test),a\n",
    "          epochs=epochs)"
   ]
  },
  {
   "cell_type": "code",
   "execution_count": 0,
   "metadata": {
    "colab": {},
    "colab_type": "code",
    "id": "7sm3u97WonWf"
   },
   "outputs": [],
   "source": [
    "epochs = 30\n",
    "batch_size = 50\n",
    "n_hidden = 400"
   ]
  },
  {
   "cell_type": "code",
   "execution_count": 0,
   "metadata": {
    "colab": {
     "base_uri": "https://localhost:8080/",
     "height": 289
    },
    "colab_type": "code",
    "id": "vMnpEHVIFxSP",
    "outputId": "81f7b77c-1cec-4866-f507-569b7b8680d9"
   },
   "outputs": [
    {
     "name": "stdout",
     "output_type": "stream",
     "text": [
      "Model: \"sequential_9\"\n",
      "_________________________________________________________________\n",
      "Layer (type)                 Output Shape              Param #   \n",
      "=================================================================\n",
      "lstm_18 (LSTM)               (None, 128, 400)          656000    \n",
      "_________________________________________________________________\n",
      "lstm_19 (LSTM)               (None, 400)               1281600   \n",
      "_________________________________________________________________\n",
      "dropout_9 (Dropout)          (None, 400)               0         \n",
      "_________________________________________________________________\n",
      "dense_9 (Dense)              (None, 6)                 2406      \n",
      "=================================================================\n",
      "Total params: 1,940,006\n",
      "Trainable params: 1,940,006\n",
      "Non-trainable params: 0\n",
      "_________________________________________________________________\n"
     ]
    }
   ],
   "source": [
    "# Initiliazing the sequential model\n",
    "model = Sequential()\n",
    "# Configuring the parameters\n",
    "model.add(LSTM(n_hidden, input_shape=(timesteps, input_dim),return_sequences=True))\n",
    "model.add(LSTM(n_hidden, input_shape=(timesteps, input_dim)))\n",
    "# Adding a dropout layer\n",
    "model.add(Dropout(0.5))\n",
    "# Adding a dense output layer with sigmoid activation\n",
    "model.add(Dense(n_classes, activation='sigmoid'))\n",
    "model.summary()"
   ]
  },
  {
   "cell_type": "code",
   "execution_count": 0,
   "metadata": {
    "colab": {},
    "colab_type": "code",
    "id": "yE_7K1SlLXA-"
   },
   "outputs": [],
   "source": [
    "model.compile(loss='categorical_crossentropy',\n",
    "              optimizer='rmsprop',\n",
    "              metrics=['accuracy'])"
   ]
  },
  {
   "cell_type": "code",
   "execution_count": 0,
   "metadata": {
    "colab": {
     "base_uri": "https://localhost:8080/",
     "height": 1000
    },
    "colab_type": "code",
    "id": "-9kRZZAGLbyK",
    "outputId": "74719021-d030-4aa6-f865-d247cd06ba42"
   },
   "outputs": [
    {
     "name": "stdout",
     "output_type": "stream",
     "text": [
      "Train on 7352 samples, validate on 2947 samples\n",
      "Epoch 1/30\n",
      "7352/7352 [==============================] - 376s 51ms/step - loss: 1.3895 - accuracy: 0.3630 - val_loss: 1.4433 - val_accuracy: 0.3448\n",
      "Epoch 2/30\n",
      "7352/7352 [==============================] - 371s 50ms/step - loss: 1.5051 - accuracy: 0.3419 - val_loss: 1.3643 - val_accuracy: 0.3536\n",
      "Epoch 3/30\n",
      "7352/7352 [==============================] - 367s 50ms/step - loss: 1.6174 - accuracy: 0.2947 - val_loss: 2.2827 - val_accuracy: 0.1805\n",
      "Epoch 4/30\n",
      "7352/7352 [==============================] - 372s 51ms/step - loss: 1.3847 - accuracy: 0.3663 - val_loss: 1.2864 - val_accuracy: 0.3885\n",
      "Epoch 5/30\n",
      "7352/7352 [==============================] - 377s 51ms/step - loss: 1.3023 - accuracy: 0.4094 - val_loss: 1.4268 - val_accuracy: 0.3427\n",
      "Epoch 6/30\n",
      "7352/7352 [==============================] - 376s 51ms/step - loss: 1.5229 - accuracy: 0.3307 - val_loss: 1.3071 - val_accuracy: 0.4007\n",
      "Epoch 7/30\n",
      "7352/7352 [==============================] - 365s 50ms/step - loss: 1.2189 - accuracy: 0.4412 - val_loss: 1.0330 - val_accuracy: 0.4734\n",
      "Epoch 8/30\n",
      "7352/7352 [==============================] - 369s 50ms/step - loss: 1.2096 - accuracy: 0.4498 - val_loss: 1.2878 - val_accuracy: 0.4075\n",
      "Epoch 9/30\n",
      "7352/7352 [==============================] - 369s 50ms/step - loss: 1.2264 - accuracy: 0.4433 - val_loss: 1.2485 - val_accuracy: 0.4540\n",
      "Epoch 10/30\n",
      "7352/7352 [==============================] - 365s 50ms/step - loss: 1.0674 - accuracy: 0.5260 - val_loss: 1.0025 - val_accuracy: 0.5976\n",
      "Epoch 11/30\n",
      "7352/7352 [==============================] - 371s 50ms/step - loss: 0.7309 - accuracy: 0.6468 - val_loss: 0.8430 - val_accuracy: 0.6291\n",
      "Epoch 12/30\n",
      "7352/7352 [==============================] - 367s 50ms/step - loss: 0.5931 - accuracy: 0.7397 - val_loss: 0.4590 - val_accuracy: 0.8219\n",
      "Epoch 13/30\n",
      "7352/7352 [==============================] - 370s 50ms/step - loss: 0.3360 - accuracy: 0.8787 - val_loss: 0.3739 - val_accuracy: 0.8707\n",
      "Epoch 14/30\n",
      "7352/7352 [==============================] - 372s 51ms/step - loss: 0.2674 - accuracy: 0.9063 - val_loss: 0.3638 - val_accuracy: 0.8839\n",
      "Epoch 15/30\n",
      "7352/7352 [==============================] - 369s 50ms/step - loss: 0.2039 - accuracy: 0.9251 - val_loss: 0.2553 - val_accuracy: 0.8985\n",
      "Epoch 16/30\n",
      "7352/7352 [==============================] - 370s 50ms/step - loss: 0.2205 - accuracy: 0.9204 - val_loss: 0.6894 - val_accuracy: 0.7285\n",
      "Epoch 17/30\n",
      "7352/7352 [==============================] - 368s 50ms/step - loss: 0.2318 - accuracy: 0.9052 - val_loss: 0.3073 - val_accuracy: 0.9040\n",
      "Epoch 18/30\n",
      "7352/7352 [==============================] - 374s 51ms/step - loss: 0.1496 - accuracy: 0.9425 - val_loss: 0.4131 - val_accuracy: 0.8901\n",
      "Epoch 19/30\n",
      "7352/7352 [==============================] - 371s 50ms/step - loss: 0.1757 - accuracy: 0.9396 - val_loss: 0.2300 - val_accuracy: 0.9094\n",
      "Epoch 20/30\n",
      "7352/7352 [==============================] - 367s 50ms/step - loss: 0.1451 - accuracy: 0.9395 - val_loss: 0.3788 - val_accuracy: 0.8958\n",
      "Epoch 21/30\n",
      "7352/7352 [==============================] - 371s 50ms/step - loss: 0.1399 - accuracy: 0.9452 - val_loss: 0.3568 - val_accuracy: 0.9091\n",
      "Epoch 22/30\n",
      "7352/7352 [==============================] - 372s 51ms/step - loss: 0.1249 - accuracy: 0.9510 - val_loss: 0.2756 - val_accuracy: 0.9148\n",
      "Epoch 23/30\n",
      "7352/7352 [==============================] - 372s 51ms/step - loss: 0.1366 - accuracy: 0.9514 - val_loss: 0.4882 - val_accuracy: 0.8958\n",
      "Epoch 24/30\n",
      "7352/7352 [==============================] - 372s 51ms/step - loss: 0.1244 - accuracy: 0.9502 - val_loss: 0.4677 - val_accuracy: 0.8962\n",
      "Epoch 25/30\n",
      "7352/7352 [==============================] - 368s 50ms/step - loss: 0.1301 - accuracy: 0.9518 - val_loss: 0.3033 - val_accuracy: 0.9243\n",
      "Epoch 26/30\n",
      "7352/7352 [==============================] - 372s 51ms/step - loss: 0.1247 - accuracy: 0.9479 - val_loss: 0.2570 - val_accuracy: 0.9199\n",
      "Epoch 27/30\n",
      "7352/7352 [==============================] - 368s 50ms/step - loss: 0.1289 - accuracy: 0.9524 - val_loss: 0.2672 - val_accuracy: 0.9158\n",
      "Epoch 28/30\n",
      "7352/7352 [==============================] - 373s 51ms/step - loss: 0.1139 - accuracy: 0.9524 - val_loss: 0.2991 - val_accuracy: 0.9247\n",
      "Epoch 29/30\n",
      "7352/7352 [==============================] - 372s 51ms/step - loss: 0.1339 - accuracy: 0.9517 - val_loss: 0.2612 - val_accuracy: 0.9203\n",
      "Epoch 30/30\n",
      "7352/7352 [==============================] - 367s 50ms/step - loss: 0.1228 - accuracy: 0.9487 - val_loss: 0.4365 - val_accuracy: 0.9033\n"
     ]
    },
    {
     "data": {
      "text/plain": [
       "<keras.callbacks.callbacks.History at 0x7fc90515c7b8>"
      ]
     },
     "execution_count": 65,
     "metadata": {
      "tags": []
     },
     "output_type": "execute_result"
    }
   ],
   "source": [
    "# Training the model\n",
    "model.fit(X_train,\n",
    "          Y_train,\n",
    "          batch_size=batch_size,\n",
    "          validation_data=(X_test, Y_test),\n",
    "          epochs=epochs)"
   ]
  },
  {
   "cell_type": "code",
   "execution_count": 0,
   "metadata": {
    "colab": {},
    "colab_type": "code",
    "id": "lqnQwiJYAN8P"
   },
   "outputs": [],
   "source": []
  },
  {
   "cell_type": "markdown",
   "metadata": {
    "colab_type": "text",
    "id": "f9XRK0_R4StP"
   },
   "source": [
    "# DIVIDE MY CONQUER USING CNN"
   ]
  },
  {
   "cell_type": "code",
   "execution_count": 0,
   "metadata": {
    "colab": {
     "base_uri": "https://localhost:8080/",
     "height": 34
    },
    "colab_type": "code",
    "id": "8kwQh8q_BtS6",
    "outputId": "50a2ef59-bcd9-40ef-a552-9c0bc6fe8595"
   },
   "outputs": [
    {
     "name": "stdout",
     "output_type": "stream",
     "text": [
      "'Inertial Signals'   subject_train.txt\t X_train.txt   y_train.txt\n"
     ]
    }
   ],
   "source": [
    "!ls \"drive/My Drive/Colab Notebooks/HumanActivityRecognition/HAR/UCI_HAR_Dataset/train\""
   ]
  },
  {
   "cell_type": "code",
   "execution_count": 0,
   "metadata": {
    "colab": {
     "base_uri": "https://localhost:8080/",
     "height": 34
    },
    "colab_type": "code",
    "id": "nDr0HAKfLLo_",
    "outputId": "a1fff371-2d01-43a5-ff18-d02f697c6989"
   },
   "outputs": [
    {
     "name": "stderr",
     "output_type": "stream",
     "text": [
      "Using TensorFlow backend.\n"
     ]
    }
   ],
   "source": [
    "import warnings \n",
    "warnings.filterwarnings('ignore')\n",
    "from sklearn.model_selection import train_test_split\n",
    "from tqdm import tqdm\n",
    "\n",
    "from keras.preprocessing import sequence\n",
    "from keras.models import Sequential\n",
    "from keras.layers import Dense,Dropout,CuDNNLSTM,BatchNormalization\n",
    "from keras.layers import Conv1D,MaxPooling1D,Flatten\n",
    "from keras.layers.embeddings import Embedding\n"
   ]
  },
  {
   "cell_type": "markdown",
   "metadata": {
    "colab_type": "text",
    "id": "A9BgXM7I4Js6"
   },
   "source": [
    "##Loading the Output labels by spliting into Static and Dynamic"
   ]
  },
  {
   "cell_type": "code",
   "execution_count": 0,
   "metadata": {
    "colab": {},
    "colab_type": "code",
    "id": "lApfSm6DBtyp"
   },
   "outputs": [],
   "source": [
    "#code is taken from this website and modified according to my requirement github.com/xSachinBharadwajx/Human-Activity-Recognition-Using-Smartphones-DivideAndConquer/blob/master/ConquerDivide_HAR.ipynb\n",
    "def load_op_2(incoming1,incoming2):\n",
    "  \"\"\"\n",
    "    The objective that we are trying to predict is a integer, from 1 to 6,\n",
    "    that represents a human activity. We return a binary representation of \n",
    "    every sample objective as a 6 bits vector using One Hot Encoding\n",
    "    (https://pandas.pydata.org/pandas-docs/stable/generated/pandas.get_dummies.html)\n",
    "    \"\"\"\n",
    "  #path=\"drive/My Drive/Data/Human_activity_recognition\" +'/'+ incoming +'.txt'\n",
    "  path=\"drive/My Drive/Colab Notebooks/HumanActivityRecognition/HAR/UCI_HAR_Dataset/\"+incoming2+'/'+incoming1+'.txt'\n",
    "  df=pd.read_csv(path, delim_whitespace=True, header=None)[0]\n",
    "  df[df<=3] = 0\n",
    "  df[df>3] = 1\n",
    "  return pd.get_dummies(df).to_numpy()"
   ]
  },
  {
   "cell_type": "code",
   "execution_count": 0,
   "metadata": {
    "colab": {
     "base_uri": "https://localhost:8080/",
     "height": 51
    },
    "colab_type": "code",
    "id": "utnv83O93rwu",
    "outputId": "adb14fd0-b5ff-4181-9259-00ed5ddcdec9"
   },
   "outputs": [
    {
     "name": "stdout",
     "output_type": "stream",
     "text": [
      "(7352, 2)\n",
      "(2947, 2)\n"
     ]
    }
   ],
   "source": [
    "y_train_2=load_op_2('y_train',\"train\")\n",
    "y_test_2=load_op_2('y_test',\"test\")\n",
    "print(y_train_2.shape)\n",
    "print(y_test_2.shape)"
   ]
  },
  {
   "cell_type": "markdown",
   "metadata": {
    "colab_type": "text",
    "id": "ZpNpcMMz4lvl"
   },
   "source": [
    "##Model for classifying data into Static and Dynamic "
   ]
  },
  {
   "cell_type": "code",
   "execution_count": 0,
   "metadata": {
    "colab": {
     "base_uri": "https://localhost:8080/",
     "height": 391
    },
    "colab_type": "code",
    "id": "7HA-rK0hKTSH",
    "outputId": "ee161c7f-054a-4e69-c733-60f83003aa0a"
   },
   "outputs": [
    {
     "name": "stdout",
     "output_type": "stream",
     "text": [
      "Train on 7352 samples, validate on 2947 samples\n",
      "Epoch 1/10\n",
      "7352/7352 [==============================] - 6s 760us/step - loss: 0.0345 - accuracy: 0.9868 - val_loss: 0.0338 - val_accuracy: 0.9783\n",
      "Epoch 2/10\n",
      "7352/7352 [==============================] - 5s 727us/step - loss: 0.0032 - accuracy: 0.9988 - val_loss: 0.0117 - val_accuracy: 0.9963\n",
      "Epoch 3/10\n",
      "7352/7352 [==============================] - 6s 755us/step - loss: 8.8948e-04 - accuracy: 0.9996 - val_loss: 0.0077 - val_accuracy: 0.9983\n",
      "Epoch 4/10\n",
      "7352/7352 [==============================] - 5s 710us/step - loss: 6.0257e-05 - accuracy: 1.0000 - val_loss: 0.0061 - val_accuracy: 0.9983\n",
      "Epoch 5/10\n",
      "7352/7352 [==============================] - 5s 666us/step - loss: 2.3451e-05 - accuracy: 1.0000 - val_loss: 0.0075 - val_accuracy: 0.9983\n",
      "Epoch 6/10\n",
      "7352/7352 [==============================] - 5s 658us/step - loss: 1.0934e-05 - accuracy: 1.0000 - val_loss: 0.0072 - val_accuracy: 0.9983\n",
      "Epoch 7/10\n",
      "7352/7352 [==============================] - 5s 645us/step - loss: 1.0018e-05 - accuracy: 1.0000 - val_loss: 0.0070 - val_accuracy: 0.9983\n",
      "Epoch 8/10\n",
      "7352/7352 [==============================] - 5s 659us/step - loss: 5.0086e-06 - accuracy: 1.0000 - val_loss: 0.0071 - val_accuracy: 0.9980\n",
      "Epoch 9/10\n",
      "7352/7352 [==============================] - 5s 687us/step - loss: 3.4142e-06 - accuracy: 1.0000 - val_loss: 0.0077 - val_accuracy: 0.9980\n",
      "Epoch 10/10\n",
      "7352/7352 [==============================] - 5s 665us/step - loss: 3.9038e-06 - accuracy: 1.0000 - val_loss: 0.0062 - val_accuracy: 0.9980\n"
     ]
    },
    {
     "data": {
      "text/plain": [
       "<keras.callbacks.callbacks.History at 0x7f6027e50940>"
      ]
     },
     "execution_count": 56,
     "metadata": {
      "tags": []
     },
     "output_type": "execute_result"
    }
   ],
   "source": [
    "model = Sequential()\n",
    "model.add(Conv1D(filters=32, kernel_size=3, activation='relu',kernel_initializer='he_uniform',input_shape=(128,9)))\n",
    "model.add(Conv1D(filters=32, kernel_size=3, activation='relu',kernel_initializer='he_uniform'))\n",
    "model.add(Dropout(0.6))\n",
    "model.add(MaxPooling1D(pool_size=2))\n",
    "model.add(Flatten())\n",
    "model.add(Dense(50, activation='relu'))\n",
    "model.add(Dense(2, activation='softmax'))\n",
    "model.compile(loss='categorical_crossentropy', optimizer='adam', metrics=['accuracy'])\n",
    "model.fit(X_train,y_train_2, epochs=10, batch_size=16,validation_data=(X_test, y_test_2))"
   ]
  },
  {
   "cell_type": "markdown",
   "metadata": {
    "colab_type": "text",
    "id": "8LbWqhuR4rRB"
   },
   "source": [
    "##Save the 2 class classification model"
   ]
  },
  {
   "cell_type": "code",
   "execution_count": 0,
   "metadata": {
    "colab": {},
    "colab_type": "code",
    "id": "DugT3BI3LWb0"
   },
   "outputs": [],
   "source": [
    "model.save('drive/My Drive/Colab Notebooks/HumanActivityRecognition/model_2class.h5')"
   ]
  },
  {
   "cell_type": "markdown",
   "metadata": {
    "colab_type": "text",
    "id": "hK_z8-FU40So"
   },
   "source": [
    "##Classificaton of Static activities"
   ]
  },
  {
   "cell_type": "code",
   "execution_count": 0,
   "metadata": {
    "colab": {},
    "colab_type": "code",
    "id": "cuTJNoCaNvUL"
   },
   "outputs": [],
   "source": [
    "def load_op_stat(incoming1,incoming2):\n",
    "  \"\"\"\n",
    "    The objective that we are trying to predict is a integer, from 1 to 6,\n",
    "    that represents a human activity. We return a binary representation of \n",
    "    every sample objective as a 6 bits vector using One Hot Encoding\n",
    "    (https://pandas.pydata.org/pandas-docs/stable/generated/pandas.get_dummies.html)\n",
    "    \"\"\"\n",
    "  path=\"drive/My Drive/Colab Notebooks/HumanActivityRecognition/HAR/UCI_HAR_Dataset/\"+incoming2+'/'+incoming1+'.txt'\n",
    "  \n",
    "  df=pd.read_csv(path, delim_whitespace=True, header=None)[0]\n",
    "  df_subset=df>3\n",
    "  df=df[df_subset]\n",
    "  return pd.get_dummies(df).to_numpy(),df_subset"
   ]
  },
  {
   "cell_type": "code",
   "execution_count": 0,
   "metadata": {
    "colab": {
     "base_uri": "https://localhost:8080/",
     "height": 85
    },
    "colab_type": "code",
    "id": "M1CQV7FuN-M6",
    "outputId": "c2a72e93-d7e3-4adc-928a-dbbf3c569ad7"
   },
   "outputs": [
    {
     "name": "stdout",
     "output_type": "stream",
     "text": [
      "(4067, 3)\n",
      "(1560, 3)\n",
      "(1560, 128, 9)\n",
      "(4067, 128, 9)\n"
     ]
    }
   ],
   "source": [
    "y_train_stat,x_train_size=load_op_stat('y_train','train')\n",
    "y_test_stat,x_test_size=load_op_stat('y_test','test')\n",
    "X_train_stat=X_train[x_train_size]\n",
    "X_test_stat=X_test[x_test_size]\n",
    "print(y_train_stat.shape)\n",
    "print(y_test_stat.shape)\n",
    "print(X_test_stat.shape)\n",
    "print(X_train_stat.shape)"
   ]
  },
  {
   "cell_type": "markdown",
   "metadata": {
    "colab_type": "text",
    "id": "4B2tex5Y4-Hf"
   },
   "source": [
    "##Model for Static Activities"
   ]
  },
  {
   "cell_type": "code",
   "execution_count": 0,
   "metadata": {
    "colab": {
     "base_uri": "https://localhost:8080/",
     "height": 1000
    },
    "colab_type": "code",
    "id": "uVd9yWVUOOB0",
    "outputId": "9e6bec40-5ae7-4bf0-8416-d5ad1ddb5d73"
   },
   "outputs": [
    {
     "name": "stdout",
     "output_type": "stream",
     "text": [
      "Train on 4067 samples, validate on 1560 samples\n",
      "Epoch 1/30\n",
      "4067/4067 [==============================] - 4s 1ms/step - loss: 0.5644 - accuracy: 0.7866 - val_loss: 0.4062 - val_accuracy: 0.8487\n",
      "Epoch 2/30\n",
      "4067/4067 [==============================] - 4s 965us/step - loss: 0.3247 - accuracy: 0.8844 - val_loss: 0.3619 - val_accuracy: 0.8891\n",
      "Epoch 3/30\n",
      "4067/4067 [==============================] - 4s 955us/step - loss: 0.2981 - accuracy: 0.8921 - val_loss: 0.3128 - val_accuracy: 0.8808\n",
      "Epoch 4/30\n",
      "4067/4067 [==============================] - 4s 969us/step - loss: 0.2971 - accuracy: 0.8962 - val_loss: 0.3310 - val_accuracy: 0.8679\n",
      "Epoch 5/30\n",
      "4067/4067 [==============================] - 4s 954us/step - loss: 0.2567 - accuracy: 0.9019 - val_loss: 0.2835 - val_accuracy: 0.8821\n",
      "Epoch 6/30\n",
      "4067/4067 [==============================] - 4s 949us/step - loss: 0.2705 - accuracy: 0.9014 - val_loss: 0.3198 - val_accuracy: 0.8846\n",
      "Epoch 7/30\n",
      "4067/4067 [==============================] - 4s 942us/step - loss: 0.2525 - accuracy: 0.9063 - val_loss: 0.3982 - val_accuracy: 0.8571\n",
      "Epoch 8/30\n",
      "4067/4067 [==============================] - 4s 960us/step - loss: 0.2604 - accuracy: 0.9046 - val_loss: 0.2895 - val_accuracy: 0.8795\n",
      "Epoch 9/30\n",
      "4067/4067 [==============================] - 4s 972us/step - loss: 0.2622 - accuracy: 0.9041 - val_loss: 0.2825 - val_accuracy: 0.9064\n",
      "Epoch 10/30\n",
      "4067/4067 [==============================] - 4s 955us/step - loss: 0.2258 - accuracy: 0.9154 - val_loss: 0.3143 - val_accuracy: 0.8840\n",
      "Epoch 11/30\n",
      "4067/4067 [==============================] - 4s 950us/step - loss: 0.2397 - accuracy: 0.9159 - val_loss: 0.3028 - val_accuracy: 0.8910\n",
      "Epoch 12/30\n",
      "4067/4067 [==============================] - 4s 953us/step - loss: 0.2328 - accuracy: 0.9174 - val_loss: 0.3252 - val_accuracy: 0.8974\n",
      "Epoch 13/30\n",
      "4067/4067 [==============================] - 4s 948us/step - loss: 0.2328 - accuracy: 0.9154 - val_loss: 0.4077 - val_accuracy: 0.8462\n",
      "Epoch 14/30\n",
      "4067/4067 [==============================] - 4s 953us/step - loss: 0.2233 - accuracy: 0.9181 - val_loss: 0.2782 - val_accuracy: 0.8891\n",
      "Epoch 15/30\n",
      "4067/4067 [==============================] - 4s 974us/step - loss: 0.2052 - accuracy: 0.9289 - val_loss: 0.2884 - val_accuracy: 0.8923\n",
      "Epoch 16/30\n",
      "4067/4067 [==============================] - 4s 975us/step - loss: 0.2226 - accuracy: 0.9240 - val_loss: 0.3063 - val_accuracy: 0.8910\n",
      "Epoch 17/30\n",
      "4067/4067 [==============================] - 4s 992us/step - loss: 0.2026 - accuracy: 0.9294 - val_loss: 0.2511 - val_accuracy: 0.9128\n",
      "Epoch 18/30\n",
      "4067/4067 [==============================] - 4s 976us/step - loss: 0.2178 - accuracy: 0.9253 - val_loss: 0.2786 - val_accuracy: 0.8891\n",
      "Epoch 19/30\n",
      "4067/4067 [==============================] - 4s 985us/step - loss: 0.1997 - accuracy: 0.9348 - val_loss: 0.2860 - val_accuracy: 0.9122\n",
      "Epoch 20/30\n",
      "4067/4067 [==============================] - 4s 985us/step - loss: 0.2276 - accuracy: 0.9289 - val_loss: 0.2510 - val_accuracy: 0.8955\n",
      "Epoch 21/30\n",
      "4067/4067 [==============================] - 4s 970us/step - loss: 0.2071 - accuracy: 0.9294 - val_loss: 0.4226 - val_accuracy: 0.8853\n",
      "Epoch 22/30\n",
      "4067/4067 [==============================] - 4s 975us/step - loss: 0.1974 - accuracy: 0.9321 - val_loss: 0.3387 - val_accuracy: 0.8885\n",
      "Epoch 23/30\n",
      "4067/4067 [==============================] - 4s 990us/step - loss: 0.1943 - accuracy: 0.9356 - val_loss: 0.3394 - val_accuracy: 0.8974\n",
      "Epoch 24/30\n",
      "4067/4067 [==============================] - 4s 984us/step - loss: 0.1884 - accuracy: 0.9371 - val_loss: 0.2404 - val_accuracy: 0.9160\n",
      "Epoch 25/30\n",
      "4067/4067 [==============================] - 4s 996us/step - loss: 0.1917 - accuracy: 0.9395 - val_loss: 0.2648 - val_accuracy: 0.9122\n",
      "Epoch 26/30\n",
      "4067/4067 [==============================] - 4s 959us/step - loss: 0.1804 - accuracy: 0.9442 - val_loss: 0.2633 - val_accuracy: 0.9173\n",
      "Epoch 27/30\n",
      "4067/4067 [==============================] - 4s 967us/step - loss: 0.1797 - accuracy: 0.9407 - val_loss: 0.2259 - val_accuracy: 0.9083\n",
      "Epoch 28/30\n",
      "4067/4067 [==============================] - 4s 993us/step - loss: 0.1731 - accuracy: 0.9422 - val_loss: 0.2469 - val_accuracy: 0.9045\n",
      "Epoch 29/30\n",
      "4067/4067 [==============================] - 4s 1ms/step - loss: 0.1784 - accuracy: 0.9410 - val_loss: 0.2825 - val_accuracy: 0.9173\n",
      "Epoch 30/30\n",
      "4067/4067 [==============================] - 4s 1ms/step - loss: 0.1912 - accuracy: 0.9415 - val_loss: 0.2692 - val_accuracy: 0.9038\n"
     ]
    },
    {
     "data": {
      "text/plain": [
       "<keras.callbacks.callbacks.History at 0x7f6026ea3b70>"
      ]
     },
     "execution_count": 64,
     "metadata": {
      "tags": []
     },
     "output_type": "execute_result"
    }
   ],
   "source": [
    "  model_stat = Sequential()\n",
    "  model_stat.add(Conv1D(filters=64, kernel_size=5,padding='same', activation='relu',kernel_initializer='he_uniform',input_shape=(128,9)))\n",
    "  model_stat.add(Conv1D(filters=32, kernel_size=3,padding='same', activation='relu',kernel_initializer='he_uniform'))\n",
    "  model_stat.add(Dropout(0.6))\n",
    "  model_stat.add(MaxPooling1D(pool_size=1,strides=1))\n",
    "\n",
    "  model_stat.add(Flatten())\n",
    "  model_stat.add(Dense(64, activation='relu',kernel_initializer='he_uniform'))\n",
    "  model_stat.add(BatchNormalization()) \n",
    "  model_stat.add(Dropout(0.6))\n",
    "\n",
    "  model_stat.add(Dense(32, activation='relu',kernel_initializer='he_uniform'))\n",
    "  model_stat.add(BatchNormalization()) \n",
    "  model_stat.add(Dropout(0.6))\n",
    "\n",
    "  model_stat.add(Dense(3, activation='softmax'))\n",
    "\n",
    "  model_stat.compile(loss='categorical_crossentropy', optimizer='rmsprop', metrics=['accuracy'])\n",
    "  model_stat.fit(X_train_stat,y_train_stat, epochs=30, batch_size=16,validation_data=(X_test_stat, y_test_stat))"
   ]
  },
  {
   "cell_type": "code",
   "execution_count": 0,
   "metadata": {
    "colab": {},
    "colab_type": "code",
    "id": "VDllMOyIOmex"
   },
   "outputs": [],
   "source": [
    "model_stat.save('drive/My Drive/Colab Notebooks/HumanActivityRecognition/model_stat_class.h5')"
   ]
  },
  {
   "cell_type": "markdown",
   "metadata": {
    "colab_type": "text",
    "id": "3Xx7LXDm5OtE"
   },
   "source": [
    "##Output For Dynamic Activities"
   ]
  },
  {
   "cell_type": "code",
   "execution_count": 0,
   "metadata": {
    "colab": {},
    "colab_type": "code",
    "id": "Ku0nprYtP-Hf"
   },
   "outputs": [],
   "source": [
    "def load_op_dyn(incoming1,incoming2):\n",
    "  \"\"\"\n",
    "    The objective that we are trying to predict is a integer, from 1 to 6,\n",
    "    that represents a human activity. We return a binary representation of \n",
    "    every sample objective as a 6 bits vector using One Hot Encoding\n",
    "    (https://pandas.pydata.org/pandas-docs/stable/generated/pandas.get_dummies.html)\n",
    "    \"\"\"\n",
    "  path=\"drive/My Drive/Colab Notebooks/HumanActivityRecognition/HAR/UCI_HAR_Dataset/\"+incoming2+'/'+incoming1+'.txt'\n",
    "  \n",
    "  df=pd.read_csv(path, delim_whitespace=True, header=None)[0]\n",
    "  df_subset=df<=3\n",
    "  df=df[df_subset]\n",
    "  return pd.get_dummies(df).to_numpy(),df_subset"
   ]
  },
  {
   "cell_type": "code",
   "execution_count": 0,
   "metadata": {
    "colab": {
     "base_uri": "https://localhost:8080/",
     "height": 85
    },
    "colab_type": "code",
    "id": "NbFSF1cGRaUu",
    "outputId": "41c8471e-e8a4-424a-e093-9194902b698b"
   },
   "outputs": [
    {
     "name": "stdout",
     "output_type": "stream",
     "text": [
      "(3285, 3)\n",
      "(1387, 3)\n",
      "(1387, 128, 9)\n",
      "(3285, 128, 9)\n"
     ]
    }
   ],
   "source": [
    "y_train_dyn,x_train_size=load_op_dyn('y_train','train')\n",
    "y_test_dyn,x_test_size=load_op_dyn('y_test','test')\n",
    "X_train_dyn=X_train[x_train_size]\n",
    "X_test_dyn=X_test[x_test_size]\n",
    "print(y_train_dyn.shape)\n",
    "print(y_test_dyn.shape)\n",
    "print(X_test_dyn.shape)\n",
    "print(X_train_dyn.shape)"
   ]
  },
  {
   "cell_type": "markdown",
   "metadata": {
    "colab_type": "text",
    "id": "I8IDBxh55RF3"
   },
   "source": [
    "##Model for Dynamic"
   ]
  },
  {
   "cell_type": "code",
   "execution_count": 0,
   "metadata": {
    "colab": {
     "base_uri": "https://localhost:8080/",
     "height": 1000
    },
    "colab_type": "code",
    "id": "H6NIrXgdStiC",
    "outputId": "afa70f4b-6f2a-4600-fb2a-85d84e930002"
   },
   "outputs": [
    {
     "name": "stdout",
     "output_type": "stream",
     "text": [
      "Train on 3285 samples, validate on 1387 samples\n",
      "Epoch 1/40\n",
      "3285/3285 [==============================] - 5s 1ms/step - loss: 1.3193 - accuracy: 0.4712 - val_loss: 1.3942 - val_accuracy: 0.4585\n",
      "Epoch 2/40\n",
      "3285/3285 [==============================] - 4s 1ms/step - loss: 0.5140 - accuracy: 0.8000 - val_loss: 0.4088 - val_accuracy: 0.8407\n",
      "Epoch 3/40\n",
      "3285/3285 [==============================] - 4s 1ms/step - loss: 0.2259 - accuracy: 0.9324 - val_loss: 0.3440 - val_accuracy: 0.8688\n",
      "Epoch 4/40\n",
      "3285/3285 [==============================] - 4s 1ms/step - loss: 0.1333 - accuracy: 0.9635 - val_loss: 0.1645 - val_accuracy: 0.9524\n",
      "Epoch 5/40\n",
      "3285/3285 [==============================] - 4s 1ms/step - loss: 0.0988 - accuracy: 0.9735 - val_loss: 0.1798 - val_accuracy: 0.9322\n",
      "Epoch 6/40\n",
      "3285/3285 [==============================] - 4s 1ms/step - loss: 0.0783 - accuracy: 0.9763 - val_loss: 0.2188 - val_accuracy: 0.9452\n",
      "Epoch 7/40\n",
      "3285/3285 [==============================] - 4s 1ms/step - loss: 0.0957 - accuracy: 0.9744 - val_loss: 0.1650 - val_accuracy: 0.9510\n",
      "Epoch 8/40\n",
      "3285/3285 [==============================] - 4s 1ms/step - loss: 0.0540 - accuracy: 0.9851 - val_loss: 0.1341 - val_accuracy: 0.9654\n",
      "Epoch 9/40\n",
      "3285/3285 [==============================] - 4s 1ms/step - loss: 0.0765 - accuracy: 0.9790 - val_loss: 0.0822 - val_accuracy: 0.9740\n",
      "Epoch 10/40\n",
      "3285/3285 [==============================] - 4s 1ms/step - loss: 0.0542 - accuracy: 0.9842 - val_loss: 0.1320 - val_accuracy: 0.9640\n",
      "Epoch 11/40\n",
      "3285/3285 [==============================] - 4s 1ms/step - loss: 0.0741 - accuracy: 0.9781 - val_loss: 0.0918 - val_accuracy: 0.9712\n",
      "Epoch 12/40\n",
      "3285/3285 [==============================] - 4s 1ms/step - loss: 0.0689 - accuracy: 0.9851 - val_loss: 0.2469 - val_accuracy: 0.9106\n",
      "Epoch 13/40\n",
      "3285/3285 [==============================] - 4s 1ms/step - loss: 0.1667 - accuracy: 0.9516 - val_loss: 0.0955 - val_accuracy: 0.9733\n",
      "Epoch 14/40\n",
      "3285/3285 [==============================] - 4s 1ms/step - loss: 0.0515 - accuracy: 0.9851 - val_loss: 0.0850 - val_accuracy: 0.9784\n",
      "Epoch 15/40\n",
      "3285/3285 [==============================] - 4s 1ms/step - loss: 0.0433 - accuracy: 0.9887 - val_loss: 0.0715 - val_accuracy: 0.9784\n",
      "Epoch 16/40\n",
      "3285/3285 [==============================] - 4s 1ms/step - loss: 0.0560 - accuracy: 0.9848 - val_loss: 0.1080 - val_accuracy: 0.9647\n",
      "Epoch 17/40\n",
      "3285/3285 [==============================] - 4s 1ms/step - loss: 0.0270 - accuracy: 0.9930 - val_loss: 0.1171 - val_accuracy: 0.9733\n",
      "Epoch 18/40\n",
      "3285/3285 [==============================] - 4s 1ms/step - loss: 0.0216 - accuracy: 0.9951 - val_loss: 0.1408 - val_accuracy: 0.9661\n",
      "Epoch 19/40\n",
      "3285/3285 [==============================] - 4s 1ms/step - loss: 0.0198 - accuracy: 0.9948 - val_loss: 0.0792 - val_accuracy: 0.9820\n",
      "Epoch 20/40\n",
      "3285/3285 [==============================] - 4s 1ms/step - loss: 0.0273 - accuracy: 0.9906 - val_loss: 0.1214 - val_accuracy: 0.9704\n",
      "Epoch 21/40\n",
      "3285/3285 [==============================] - 4s 1ms/step - loss: 0.0850 - accuracy: 0.9772 - val_loss: 0.1398 - val_accuracy: 0.9690\n",
      "Epoch 22/40\n",
      "3285/3285 [==============================] - 4s 1ms/step - loss: 0.0278 - accuracy: 0.9918 - val_loss: 0.0960 - val_accuracy: 0.9769\n",
      "Epoch 23/40\n",
      "3285/3285 [==============================] - 4s 1ms/step - loss: 0.0536 - accuracy: 0.9848 - val_loss: 0.0617 - val_accuracy: 0.9849\n",
      "Epoch 24/40\n",
      "3285/3285 [==============================] - 4s 1ms/step - loss: 0.0162 - accuracy: 0.9957 - val_loss: 0.0596 - val_accuracy: 0.9856\n",
      "Epoch 25/40\n",
      "3285/3285 [==============================] - 4s 1ms/step - loss: 0.0157 - accuracy: 0.9957 - val_loss: 0.0657 - val_accuracy: 0.9827\n",
      "Epoch 26/40\n",
      "3285/3285 [==============================] - 4s 1ms/step - loss: 0.0182 - accuracy: 0.9948 - val_loss: 0.1192 - val_accuracy: 0.9748\n",
      "Epoch 27/40\n",
      "3285/3285 [==============================] - 4s 1ms/step - loss: 0.0195 - accuracy: 0.9936 - val_loss: 0.0571 - val_accuracy: 0.9863\n",
      "Epoch 28/40\n",
      "3285/3285 [==============================] - 4s 1ms/step - loss: 0.0249 - accuracy: 0.9948 - val_loss: 0.0677 - val_accuracy: 0.9849\n",
      "Epoch 29/40\n",
      "3285/3285 [==============================] - 4s 1ms/step - loss: 0.0516 - accuracy: 0.9878 - val_loss: 0.1540 - val_accuracy: 0.9704\n",
      "Epoch 30/40\n",
      "3285/3285 [==============================] - 4s 1ms/step - loss: 0.0335 - accuracy: 0.9918 - val_loss: 0.1268 - val_accuracy: 0.9762\n",
      "Epoch 31/40\n",
      "3285/3285 [==============================] - 4s 1ms/step - loss: 0.0175 - accuracy: 0.9954 - val_loss: 0.1170 - val_accuracy: 0.9791\n",
      "Epoch 32/40\n",
      "3285/3285 [==============================] - 4s 1ms/step - loss: 0.0126 - accuracy: 0.9970 - val_loss: 0.1711 - val_accuracy: 0.9654\n",
      "Epoch 33/40\n",
      "3285/3285 [==============================] - 4s 1ms/step - loss: 0.0165 - accuracy: 0.9960 - val_loss: 0.1880 - val_accuracy: 0.9640\n",
      "Epoch 34/40\n",
      "3285/3285 [==============================] - 4s 1ms/step - loss: 0.0185 - accuracy: 0.9945 - val_loss: 0.1178 - val_accuracy: 0.9805\n",
      "Epoch 35/40\n",
      "3285/3285 [==============================] - 4s 1ms/step - loss: 0.0056 - accuracy: 1.0000 - val_loss: 0.1241 - val_accuracy: 0.9805\n",
      "Epoch 36/40\n",
      "3285/3285 [==============================] - 4s 1ms/step - loss: 0.0059 - accuracy: 0.9991 - val_loss: 0.2239 - val_accuracy: 0.9668\n",
      "Epoch 37/40\n",
      "3285/3285 [==============================] - 4s 1ms/step - loss: 0.0342 - accuracy: 0.9915 - val_loss: 0.1060 - val_accuracy: 0.9704\n",
      "Epoch 38/40\n",
      "3285/3285 [==============================] - 4s 1ms/step - loss: 0.0333 - accuracy: 0.9906 - val_loss: 0.1256 - val_accuracy: 0.9798\n",
      "Epoch 39/40\n",
      "3285/3285 [==============================] - 4s 1ms/step - loss: 0.0319 - accuracy: 0.9915 - val_loss: 0.1362 - val_accuracy: 0.9755\n",
      "Epoch 40/40\n",
      "3285/3285 [==============================] - 4s 1ms/step - loss: 0.0272 - accuracy: 0.9930 - val_loss: 0.1884 - val_accuracy: 0.9668\n",
      "1387/1387 [==============================] - 0s 216us/step\n"
     ]
    }
   ],
   "source": [
    "  model_dyn = Sequential()\n",
    "  model_dyn.add(Conv1D(filters=64, kernel_size=5,padding='same', activation='relu',kernel_initializer='he_uniform',input_shape=(128,9)))\n",
    "  model_dyn.add(Conv1D(filters=32, kernel_size=5,padding='same', activation='relu',kernel_initializer='he_uniform'))\n",
    "  model_dyn.add(Dropout(0.5))\n",
    "  model_dyn.add(MaxPooling1D(pool_size=1,strides=1))\n",
    "\n",
    "  model_dyn.add(Flatten())\n",
    "  model_dyn.add(Dense(64, activation='relu',kernel_initializer='he_uniform'))\n",
    "  model_dyn.add(BatchNormalization()) \n",
    "  model_dyn.add(Dropout(0.5))\n",
    "\n",
    "  model_dyn.add(Dense(32, activation='relu',kernel_initializer='he_uniform'))\n",
    "  model_dyn.add(BatchNormalization()) \n",
    "  model_dyn.add(Dropout(0.5))\n",
    "\n",
    "  model_dyn.add(Dense(3, activation='softmax'))\n",
    "\n",
    "  model_dyn.compile(loss='categorical_crossentropy', optimizer='adam', metrics=['accuracy'])\n",
    "  model_dyn.fit(X_train_dyn,y_train_dyn, epochs=40, batch_size=16,validation_data=(X_test_dyn, y_test_dyn),verbose=1)\n",
    "\n",
    "  #Evaluate the model_dyn \n",
    "  score = model_dyn.evaluate(X_test_dyn, y_test_dyn)"
   ]
  },
  {
   "cell_type": "code",
   "execution_count": 0,
   "metadata": {
    "colab": {},
    "colab_type": "code",
    "id": "hlO8n4dKS5Fj"
   },
   "outputs": [],
   "source": [
    "model_dyn.save('drive/My Drive/Colab Notebooks/HumanActivityRecognition/model_dyn_class.h5')"
   ]
  },
  {
   "cell_type": "markdown",
   "metadata": {
    "colab_type": "text",
    "id": "Mqe4kW4Z5Vwl"
   },
   "source": [
    "##Final Prediction "
   ]
  },
  {
   "cell_type": "code",
   "execution_count": 0,
   "metadata": {
    "colab": {},
    "colab_type": "code",
    "id": "VMu0fIPLTq7A"
   },
   "outputs": [],
   "source": [
    "from keras.models import load_model\n",
    "import pickle\n",
    "model_2class = load_model('drive/My Drive/Colab Notebooks/HumanActivityRecognition/model_2class.h5')\n",
    "model_static = load_model('drive/My Drive/Colab Notebooks/HumanActivityRecognition/model_stat_class.h5')\n",
    "model_dynamic = load_model('drive/My Drive/Colab Notebooks/HumanActivityRecognition/model_dyn_class.h5')"
   ]
  },
  {
   "cell_type": "code",
   "execution_count": 0,
   "metadata": {
    "colab": {},
    "colab_type": "code",
    "id": "MftX2A2pUp6g"
   },
   "outputs": [],
   "source": [
    "predict_2class = model_2class.predict(X_test)\n",
    "Y_pred_2class =  np.argmax(predict_2class, axis=1)\n",
    "#static data filter\n",
    "X_static = X_test[Y_pred_2class==1]\n",
    "#dynamic data filter\n",
    "X_dynamic = X_test[Y_pred_2class==0]"
   ]
  },
  {
   "cell_type": "code",
   "execution_count": 0,
   "metadata": {
    "colab": {},
    "colab_type": "code",
    "id": "tbOHnSVuUsx6"
   },
   "outputs": [],
   "source": [
    "predict_static = model_static.predict(X_static)\n",
    "predict_static = np.argmax(predict_static,axis=1)\n",
    "#predict_static = predict_static + 4"
   ]
  },
  {
   "cell_type": "code",
   "execution_count": 0,
   "metadata": {
    "colab": {
     "base_uri": "https://localhost:8080/",
     "height": 34
    },
    "colab_type": "code",
    "id": "ZJrec6eBVl_9",
    "outputId": "082bb45e-0273-462b-cc11-bb422da9f0d2"
   },
   "outputs": [
    {
     "data": {
      "text/plain": [
       "array([1, 1, 1, ..., 2, 2, 2])"
      ]
     },
     "execution_count": 74,
     "metadata": {
      "tags": []
     },
     "output_type": "execute_result"
    }
   ],
   "source": [
    "predict_static"
   ]
  },
  {
   "cell_type": "code",
   "execution_count": 0,
   "metadata": {
    "colab": {},
    "colab_type": "code",
    "id": "Gwyl6zwWVs9b"
   },
   "outputs": [],
   "source": [
    "predict_static = predict_static + 4"
   ]
  },
  {
   "cell_type": "code",
   "execution_count": 0,
   "metadata": {
    "colab": {
     "base_uri": "https://localhost:8080/",
     "height": 34
    },
    "colab_type": "code",
    "id": "x85YZvmCVuhv",
    "outputId": "ccf76978-f4f0-41e5-e85c-b085d3343a13"
   },
   "outputs": [
    {
     "data": {
      "text/plain": [
       "array([5, 5, 5, ..., 6, 6, 6])"
      ]
     },
     "execution_count": 76,
     "metadata": {
      "tags": []
     },
     "output_type": "execute_result"
    }
   ],
   "source": [
    "predict_static"
   ]
  },
  {
   "cell_type": "code",
   "execution_count": 0,
   "metadata": {
    "colab": {},
    "colab_type": "code",
    "id": "_97f0p2_V1Jy"
   },
   "outputs": [],
   "source": [
    "predict_dynamic = model_dynamic.predict(X_dynamic)\n",
    "predict_dynamic = np.argmax(predict_dynamic,axis=1)\n",
    "#predict_dynamic = predict_dynamic + 1"
   ]
  },
  {
   "cell_type": "code",
   "execution_count": 0,
   "metadata": {
    "colab": {
     "base_uri": "https://localhost:8080/",
     "height": 34
    },
    "colab_type": "code",
    "id": "RWnzIETGbloU",
    "outputId": "c0d515b6-25d3-4a16-8054-c7417a5c3e1b"
   },
   "outputs": [
    {
     "data": {
      "text/plain": [
       "array([0, 0, 0, ..., 1, 1, 1])"
      ]
     },
     "execution_count": 78,
     "metadata": {
      "tags": []
     },
     "output_type": "execute_result"
    }
   ],
   "source": [
    "predict_dynamic"
   ]
  },
  {
   "cell_type": "code",
   "execution_count": 0,
   "metadata": {
    "colab": {},
    "colab_type": "code",
    "id": "Ds-QsP2gboqP"
   },
   "outputs": [],
   "source": [
    "predict_dynamic = predict_dynamic + 1"
   ]
  },
  {
   "cell_type": "code",
   "execution_count": 0,
   "metadata": {
    "colab": {
     "base_uri": "https://localhost:8080/",
     "height": 34
    },
    "colab_type": "code",
    "id": "i5F9BmggbrTr",
    "outputId": "e0ba7dbf-4441-4733-d2a5-2673f1ea19a7"
   },
   "outputs": [
    {
     "data": {
      "text/plain": [
       "array([1, 1, 1, ..., 2, 2, 2])"
      ]
     },
     "execution_count": 80,
     "metadata": {
      "tags": []
     },
     "output_type": "execute_result"
    }
   ],
   "source": [
    "predict_dynamic"
   ]
  },
  {
   "cell_type": "code",
   "execution_count": 0,
   "metadata": {
    "colab": {},
    "colab_type": "code",
    "id": "5bRnooCjbxvZ"
   },
   "outputs": [],
   "source": [
    "i,j = 0,0 \n",
    "final_pred = []\n",
    "for mask in Y_pred_2class:\n",
    "    if mask == 1:\n",
    "        final_pred.append(predict_static[i])\n",
    "        i = i + 1\n",
    "    else:\n",
    "        final_pred.append(predict_dynamic[j])\n",
    "        j = j + 1"
   ]
  },
  {
   "cell_type": "code",
   "execution_count": 0,
   "metadata": {
    "colab": {
     "base_uri": "https://localhost:8080/",
     "height": 34
    },
    "colab_type": "code",
    "id": "SxN1fVsFb6aK",
    "outputId": "abc878d7-e6b6-424d-aab5-43c1f9362771"
   },
   "outputs": [
    {
     "name": "stdout",
     "output_type": "stream",
     "text": [
      "Accuracy of test data 0.9314557176789956\n"
     ]
    }
   ],
   "source": [
    "from sklearn.metrics import accuracy_score\n",
    "print('Accuracy of test data',accuracy_score(Y_test,final_pred))"
   ]
  },
  {
   "cell_type": "code",
   "execution_count": 0,
   "metadata": {
    "colab": {},
    "colab_type": "code",
    "id": "pTnJO2xjc10H"
   },
   "outputs": [],
   "source": [
    "import itertools\n",
    "import matplotlib.pyplot as plt\n",
    "from sklearn.metrics import confusion_matrix\n",
    "plt.rcParams[\"font.family\"] = 'DejaVu Sans'\n",
    "def plot_confusion_matrix(cm, classes,\n",
    "                          normalize=False,\n",
    "                          title='Confusion matrix',\n",
    "                          cmap=plt.cm.Blues):\n",
    "    if normalize:\n",
    "        cm = cm.astype('float') / cm.sum(axis=1)[:, np.newaxis]\n",
    "\n",
    "    plt.imshow(cm, interpolation='nearest', cmap=cmap)\n",
    "    plt.title(title)\n",
    "    plt.colorbar()\n",
    "    tick_marks = np.arange(len(classes))\n",
    "    plt.xticks(tick_marks, classes, rotation=90)\n",
    "    plt.yticks(tick_marks, classes)\n",
    "\n",
    "    fmt = '.2f' if normalize else 'd'\n",
    "    thresh = cm.max() / 2.\n",
    "    for i, j in itertools.product(range(cm.shape[0]), range(cm.shape[1])):\n",
    "        plt.text(j, i, format(cm[i, j], fmt),\n",
    "                 horizontalalignment=\"center\",\n",
    "                 color=\"white\" if cm[i, j] > thresh else \"black\")\n",
    "\n",
    "    plt.tight_layout()\n",
    "    plt.ylabel('True label')\n",
    "    plt.xlabel('Predicted label')"
   ]
  },
  {
   "cell_type": "markdown",
   "metadata": {
    "colab_type": "text",
    "id": "oEYaGK7Z5hfz"
   },
   "source": [
    "##CONFUSION MATRIX"
   ]
  },
  {
   "cell_type": "code",
   "execution_count": 0,
   "metadata": {
    "colab": {},
    "colab_type": "code",
    "id": "AvdmjW3TfBU2"
   },
   "outputs": [],
   "source": [
    "labels=['LAYING', 'SITTING','STANDING','WALKING','WALKING_DOWNSTAIRS','WALKING_UPSTAIRS']"
   ]
  },
  {
   "cell_type": "code",
   "execution_count": 0,
   "metadata": {
    "colab": {
     "base_uri": "https://localhost:8080/",
     "height": 578
    },
    "colab_type": "code",
    "id": "pXxFBM7pfjH_",
    "outputId": "65e0005d-26ee-47a6-807d-80c09903e716"
   },
   "outputs": [
    {
     "data": {
      "image/png": "[encoded data removed]",
      "text/plain": [
       "<Figure size 576x576 with 2 Axes>"
      ]
     },
     "metadata": {
      "needs_background": "light",
      "tags": []
     },
     "output_type": "display_data"
    }
   ],
   "source": [
    "    cm = confusion_matrix(Y_test, final_pred)\n",
    "    #results['confusion_matrix'] = cm\n",
    "  \n",
    "        \n",
    "    # plot confusin matrix\n",
    "    plt.figure(figsize=(8,8))\n",
    "    plt.grid(b=False)\n",
    "    plot_confusion_matrix(cm, classes=labels, normalize=True, title='Normalized confusion matrix', cmap = plt.cm.Greens)\n",
    "    plt.show()"
   ]
  },
  {
   "cell_type": "markdown",
   "metadata": {
    "colab_type": "text",
    "id": "gDZQMFd8qYmI"
   },
   "source": [
    "## CONCLUSION"
   ]
  },
  {
   "cell_type": "code",
   "execution_count": 0,
   "metadata": {
    "colab": {},
    "colab_type": "code",
    "id": "yoHmrA6lLVla"
   },
   "outputs": [],
   "source": []
  },
  {
   "cell_type": "code",
   "execution_count": 0,
   "metadata": {
    "colab": {},
    "colab_type": "code",
    "id": "XqJUSUvFqavp"
   },
   "outputs": [],
   "source": [
    "from prettytable import PrettyTable"
   ]
  },
  {
   "cell_type": "code",
   "execution_count": 0,
   "metadata": {
    "colab": {
     "base_uri": "https://localhost:8080/",
     "height": 187
    },
    "colab_type": "code",
    "id": "IF0boUBfurbE",
    "outputId": "f968dcde-e1b3-46a9-bbaa-2ed5afceb465"
   },
   "outputs": [
    {
     "name": "stdout",
     "output_type": "stream",
     "text": [
      "+----------------------+------------------+---------+----------------+---------------+\n",
      "|        Model         | nuumber of units | dropout | train accuracy | test accuracy |\n",
      "+----------------------+------------------+---------+----------------+---------------+\n",
      "|     single LSTM      |        32        |   0.5   |     0.9414     |     0.9097    |\n",
      "|     single LSTM      |        50        |   0.5   |     0.9504     |     0.9114    |\n",
      "|     single LSTM      |       100        |   0.5   |     0.9498     |     0.9097    |\n",
      "| Stacked 2 LSTM layer |        50        |   0.5   |     0.9532     |     0.9152    |\n",
      "| stacked 2 LSTM layer |       100        |   0.7   |     0.9516     |     0.9206    |\n",
      "| Stcked 2 LSTM layer  |       200        |   0.7   |     0.9461     |     0.9135    |\n",
      "+----------------------+------------------+---------+----------------+---------------+\n"
     ]
    }
   ],
   "source": [
    "pt=PrettyTable()\n",
    "pt.field_names=[\"Model\",\"number of units\",\"dropout\",\"train accuracy\",\"test accuracy\"]\n",
    "pt.add_row([\"single LSTM\",\"32\",\"0.5\",\"0.9414\",\"0.9097\"])\n",
    "pt.add_row([\"single LSTM\",\"50\",\"0.5\",\"0.9504\",\"0.9114\"])\n",
    "pt.add_row([\"single LSTM\",\"100\",\"0.5\",\"0.9498\",\"0.9097\"])\n",
    "pt.add_row([\"Stacked 2 LSTM layer\",\"50\",\"0.5\",\"0.9532\",\"0.9152\"])\n",
    "pt.add_row([\"stacked 2 LSTM layer\",\"100\",\"0.7\",\"0.9516\",\"0.9206\"])\n",
    "pt.add_row([\"Stcked 2 LSTM layer\",\"200\",\"0.7\",\"0.9461\",\"0.9135\"])\n",
    "print(pt)\n"
   ]
  },
  {
   "cell_type": "code",
   "execution_count": 4,
   "metadata": {
    "colab": {
     "base_uri": "https://localhost:8080/",
     "height": 102
    },
    "colab_type": "code",
    "id": "2akLw78J5zR8",
    "outputId": "d6b58b07-81ab-4e14-cdd1-aca7e81c5ca9"
   },
   "outputs": [
    {
     "name": "stdout",
     "output_type": "stream",
     "text": [
      "+------------------------+--------------------+\n",
      "|         Model          |   test accuracy    |\n",
      "+------------------------+--------------------+\n",
      "| Divide and conquer CNN | 0.9314557176789956 |\n",
      "+------------------------+--------------------+\n"
     ]
    }
   ],
   "source": [
    "pt=PrettyTable()\n",
    "pt.field_names=[\"Model\",\"test accuracy\"]\n",
    "pt.add_row([\"Divide and conquer CNN\",\"0.9314557176789956\"])\n",
    "print(pt)"
   ]
  },
  {
   "cell_type": "code",
   "execution_count": 0,
   "metadata": {
    "colab": {},
    "colab_type": "code",
    "id": "XQyMyXsL6zD3"
   },
   "outputs": [],
   "source": []
  }
 ],
 "metadata": {
  "colab": {
   "collapsed_sections": [],
   "name": "HAR_LSTM.ipynb",
   "provenance": []
  },
  "kernelspec": {
   "display_name": "Python 3",
   "language": "python",
   "name": "python3"
  },
  "language_info": {
   "codemirror_mode": {
    "name": "ipython",
    "version": 3
   },
   "file_extension": ".py",
   "mimetype": "text/x-python",
   "name": "python",
   "nbconvert_exporter": "python",
   "pygments_lexer": "ipython3",
   "version": "3.6.5"
  }
 },
 "nbformat": 4,
 "nbformat_minor": 1
}
